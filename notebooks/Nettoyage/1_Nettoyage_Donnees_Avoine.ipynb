{
 "cells": [
  {
   "cell_type": "markdown",
   "metadata": {
    "id": "ZM3EtIlUxau6",
    "slideshow": {
     "slide_type": "slide"
    }
   },
   "source": [
    "# Les données de rendement de la production d'avoine par région en Ontario\n",
    "\n",
    "\n"
   ]
  },
  {
   "cell_type": "markdown",
   "metadata": {
    "id": "UlkOp2jtokeq"
   },
   "source": [
    "<img style='float:right;' width='250px' src='https://ontariograinfarmer.ca/wp-content/uploads/2017/09/gluten-free-oats-1024x576.jpg'>\n",
    "\n",
    "\n",
    "Des données présentant les rendements de production d'avoine pour différentes régions de l'Ontario sont disponibles sur le site ontarien:\n",
    "\n",
    "\n",
    "<a href=\"https://data.ontario.ca/dataset/ontario-field-crop-area-and-production-estimates-by-county\">\n",
    "https://data.ontario.ca/dataset/ontario-field-crop-area-and-production-estimates-by-county\n",
    "</a>\n",
    "\n",
    "\n",
    "\n",
    "    \n",
    "\n"
   ]
  },
  {
   "cell_type": "markdown",
   "metadata": {
    "ExecuteTime": {
     "end_time": "2023-07-09T20:52:15.792769Z",
     "start_time": "2023-07-09T20:52:15.780616Z"
    },
    "slideshow": {
     "slide_type": "subslide"
    }
   },
   "source": [
    "* Les données disponibles ont été collectées pour la période de 2004 à 2022.  \n",
    "* Les données sont accessibles sous la forme d'un fichier Excel.  \n",
    "* Le fichier Excel contient plusieurs onglets, un par année. \n",
    "* Ce sont des données numériques et chronologiques.\n",
    "\n",
    "<p>\n",
    "<a href='https://data.ontario.ca/dataset/ontario-field-crop-area-and-production-estimates-by-county'>\n",
    "<img  src='https://drive.google.com/uc?export=view&id=1lirh_gkQatPcBZKXtpgWYBHQ2Ba-lzCs' width='600px'></a>\n",
    "<span>&nbsp&nbsp&nbsp&nbsp</span>\n",
    "    \n",
    "\n"
   ]
  },
  {
   "cell_type": "markdown",
   "metadata": {
    "slideshow": {
     "slide_type": "slide"
    }
   },
   "source": [
    "Voici à quoi ressemble ce fichier Excel : \n",
    "\n",
    "<img alt='Ontario_Avoine_Excel.png' src='https://drive.google.com/uc?export=view&id=1q2-DHgVFVHZ7vMQtQR5RuVw_oWgKuciq' width='800px'>\n",
    "\n"
   ]
  },
  {
   "cell_type": "markdown",
   "metadata": {
    "slideshow": {
     "slide_type": "slide"
    }
   },
   "source": [
    "### Qu'est-ce que le rendement ?\n",
    "\n",
    "\n",
    "Le rendement est défini comme suit:   $ Rendement = \\frac {Production}{Acres_{récoltées}} *1000$\n",
    "\n",
    "où le $Rendement$ est en boisseaux à l'acre.\n",
    "\n",
    "\n",
    "C'est donc le nombre de boisseaux produits par acre récoltée.  Ici, on ne s'intéresse pas aux nombres d'acres ensemencées.  On ne cherche pas à caractériser le ratio récoltée/ensemencée.\n",
    "\n"
   ]
  },
  {
   "cell_type": "markdown",
   "metadata": {
    "id": "od48YyfZxhz5",
    "slideshow": {
     "slide_type": "slide"
    }
   },
   "source": [
    "## Installation et chargement des librairies python"
   ]
  },
  {
   "cell_type": "markdown",
   "metadata": {
    "slideshow": {
     "slide_type": "skip"
    }
   },
   "source": [
    "Nous devons d'abord charger (et possiblement installer) les librairies nécessaires.  \n",
    "\n",
    "Voici une description de certaines des librairies utilisées.\n",
    "\n",
    "- `os` permet d'utiliser des fonctions liées aux fichiers sur disque et au système d'exploitation.\n",
    "- `re` pour utiliser des expressions régulières\n",
    "- `matplotlib` et `seaborn` pour générer des graphiques\n",
    "- `numpy` pour des opérations d'algèbres linéaires et mathématiques\n",
    "- `pandas` pour faciliter la manipulation et la structure des données (parfois lent pour les gros jeux de données)"
   ]
  },
  {
   "cell_type": "code",
   "execution_count": 1,
   "metadata": {
    "ExecuteTime": {
     "end_time": "2023-07-17T00:37:45.569371Z",
     "start_time": "2023-07-17T00:37:45.566933Z"
    },
    "slideshow": {
     "slide_type": "skip"
    }
   },
   "outputs": [],
   "source": [
    "# Accéder à des fichiers sur Google Drive\n",
    "# from google.colab import drive\n",
    "# drive.mount('/content/drive')\n",
    "# %cd /content/drive/My Drive/"
   ]
  },
  {
   "cell_type": "code",
   "execution_count": 2,
   "metadata": {
    "ExecuteTime": {
     "end_time": "2023-07-17T00:37:53.119066Z",
     "start_time": "2023-07-17T00:37:45.571825Z"
    },
    "colab": {
     "base_uri": "https://localhost:8080/"
    },
    "id": "FOX8cyHSpE9b",
    "outputId": "c571dfa7-3fa2-48a8-9077-c8d7949e0a2f"
   },
   "outputs": [],
   "source": [
    "# Installation et chargement des librairies requise\n",
    "import re\n",
    "import os\n",
    "import matplotlib.pyplot as plt\n",
    "import seaborn as sns\n",
    "import pandas as pd\n",
    "import numpy as np\n",
    "\n",
    "#!pip install ydata_profiling ipywidgets\n",
    "#!pip install --upgrade Pillow\n",
    "\n",
    "from ydata_profiling import ProfileReport\n",
    "colors = [\"#40BEAD\", \"#248CC4\", \"#308E81\", \"#576AC9\"]  # couleurs palette IVADO"
   ]
  },
  {
   "cell_type": "markdown",
   "metadata": {
    "id": "JeHcsmAvq7BY",
    "slideshow": {
     "slide_type": "slide"
    }
   },
   "source": [
    "## Chargement des données de rendement d'avoine"
   ]
  },
  {
   "cell_type": "markdown",
   "metadata": {},
   "source": [
    "Nous chargeons ensuite en mémoire les données provenant du fichier Excel décrit plus haut. La librairie `pandas`nous permet de lire directement un fichier Excel.  \n",
    "\n",
    "La fonction `pd.read_excel()` lit un onglet à la fois.  Nous utilisons plutôt `pd.ExcelFile()` pour gérer les onglets (`sheet_names`). "
   ]
  },
  {
   "cell_type": "code",
   "execution_count": 3,
   "metadata": {
    "ExecuteTime": {
     "end_time": "2023-07-17T00:37:54.494381Z",
     "start_time": "2023-07-17T00:37:53.130197Z"
    },
    "colab": {
     "base_uri": "https://localhost:8080/"
    },
    "id": "d39838Cdpg9K",
    "outputId": "8ac1403a-eaec-45ac-f84c-08d8b1f0e93f",
    "slideshow": {
     "slide_type": "subslide"
    }
   },
   "outputs": [],
   "source": [
    "# Nous allons chercher le fichier directement via l'URL\n",
    "filepath = \"https://data.ontario.ca/dataset/e30dc044-5f75-4f33-b63e-6326f8769bea/resource/5fe1b9cc-5c3b-4f8f-99fc-2cacf41fcf9d/download/ctyoats_f.xlsx\"\n",
    "f = pd.ExcelFile(filepath)\n",
    "sheet_names = f.sheet_names\n",
    "\n",
    "# Nous imprimons les noms des onglets du fichier Excel pour se familiariser avec les données\n",
    "print(f'{len(sheet_names)} onglets dans le fichier: {os.path.basename(filepath)}')\n",
    "print('--------------------')\n",
    "print(\", \".join(sheet_names))"
   ]
  },
  {
   "cell_type": "markdown",
   "metadata": {},
   "source": [
    "Le fichier contient 19 onglets."
   ]
  },
  {
   "cell_type": "markdown",
   "metadata": {
    "slideshow": {
     "slide_type": "slide"
    }
   },
   "source": [
    "Ce n'est pas pratique d'avoir les données dans 19 structures de données séparées (onglets). \n",
    "Concaténons les données des différents onglets.  \n",
    "\n",
    "Nous ferons ceci en deux étapes dans ce notebook pour pouvoir les regarder individuellement.  \n",
    "Nous pourrions le faire en une seule étape (dans un script par exemple): \n",
    "\n",
    "1. Nous allons itérer parmi tous les onglets et conserver les `dataframe` de `pandas` dans un dictionnaire. \n",
    "2. Nous allons concaténer les différents `dataframe` en un seul.\n"
   ]
  },
  {
   "cell_type": "code",
   "execution_count": 4,
   "metadata": {
    "ExecuteTime": {
     "end_time": "2023-07-17T00:37:55.204542Z",
     "start_time": "2023-07-17T00:37:54.497499Z"
    },
    "colab": {
     "base_uri": "https://localhost:8080/"
    },
    "id": "W6qsWrpPqVQU",
    "outputId": "3505a81e-a5e3-471e-ff4f-a1e3b37bc2d3",
    "slideshow": {
     "slide_type": "subslide"
    }
   },
   "outputs": [],
   "source": [
    "# Lecture de tous les onglets du fichier Excel.  \n",
    "# Nous les conservons dans un dictionnaire de dataframes pandas pour l'instant.\n",
    "dfs = {}\n",
    "for sheet in sheet_names:  \n",
    "    df = f.parse(sheet, skiprows=1)\n",
    "    df.loc[:, 'Onglet'] = sheet \n",
    "    dfs[sheet] = df\n",
    "    print(F'{sheet} : {df.shape[0]} rangées, {df.shape[1]} colonnes,  {list(df.columns)}')"
   ]
  },
  {
   "cell_type": "markdown",
   "metadata": {
    "slideshow": {
     "slide_type": "slide"
    },
    "solution": "shown",
    "solution_first": true
   },
   "source": [
    "### À votre tour \n",
    "\n",
    "<img style='float:right;'  src='https://drive.google.com/uc?export=view&id=1HMGzZe3dGBk9Zgpk0tKtbQarFu3WMrBK' width='100px'>  </a>\n",
    "\n",
    "C'est une bonne pratique de regarder les données souvent : les premières rangées comme les dernières.\n",
    "Inspecter différents onglets, le début et la fin.  Noter vos observations.\n",
    "\n"
   ]
  },
  {
   "cell_type": "code",
   "execution_count": 5,
   "metadata": {
    "ExecuteTime": {
     "end_time": "2023-07-17T00:37:55.212823Z",
     "start_time": "2023-07-17T00:37:55.206951Z"
    }
   },
   "outputs": [],
   "source": [
    "# à votre tour"
   ]
  },
  {
   "cell_type": "code",
   "execution_count": 6,
   "metadata": {
    "ExecuteTime": {
     "end_time": "2023-07-17T00:37:55.238502Z",
     "start_time": "2023-07-17T00:37:55.215148Z"
    },
    "slideshow": {
     "slide_type": "subslide"
    },
    "solution": "shown"
   },
   "outputs": [],
   "source": [
    "# Inspection de quelques onglets dans le fichier\n",
    "i = 1\n",
    "dfs[sheet_names[i]].head(5)"
   ]
  },
  {
   "cell_type": "markdown",
   "metadata": {
    "slideshow": {
     "slide_type": "slide"
    }
   },
   "source": [
    "### Observations    \n",
    "<img style='float:right;' src='data:image/png;base64,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'>\n",
    "\n",
    "\n",
    "<ul style='font-size:20px'>\n",
    "<li>L'année peut être récupérée dans les noms d'onglet.</li>\n",
    "\n",
    "<li>Chaque onglet contient les données d'une année donnée.</li>\n",
    "\n",
    "<li>Les onglets ne comportent pas tous le même nombre de rangées et deux onglets contiennent des erreurs dans leur nom.</li>\n",
    "\n",
    "<li>Tous les onglets ont le même nombre de colonnes.</li>\n",
    "\n",
    "<li>Le header n'est pas toujours dans la première rangée, il est parfois dans la seconde.</li>\n",
    "<li>La colonne contenant les régions n'est pas nommée.</li>\n",
    "\n",
    "</ul>\n",
    "\n"
   ]
  },
  {
   "cell_type": "markdown",
   "metadata": {
    "slideshow": {
     "slide_type": "subslide"
    }
   },
   "source": [
    "<ul style='font-size:20px'>\n",
    "<li>Incohérence de langue (FR/EN) (oats).</li>\n",
    "\n",
    "<li>Incohérence dans le nombre de lignes entre les onglets.</li>\n",
    "\n",
    "<li>Incohérence dans le nom des régions entre les onglets.</li>\n",
    "\n",
    "<li>Incohérence dans le nom des colonnes entre les onglets.</li>\n",
    "\n",
    "<li>Incohérence pour indiquer l'absence de données ou l'absence d'ensemencement (on ne sait pas ce que signifie '-', 'x', 0). </li>\n",
    "    \n",
    "<li>Logiquement, un rendement de 0 semble improbable si les valeurs d'acres ensemencées et d'acres récoltées ne sont pas 0. Il faudrait approfondir ceci.</li>\n",
    "\n",
    "<li>Incohérence dans les valeurs dernières lignes des onglets</li>\n",
    "\n",
    "<li>Le nom des colonnes a changé au fil du temps.  Au moins, la signification et l'ordre sont restés les mêmes.</li>\n",
    "</ul>"
   ]
  },
  {
   "cell_type": "markdown",
   "metadata": {
    "id": "ETD_MvuZyerD",
    "slideshow": {
     "slide_type": "slide"
    }
   },
   "source": [
    "## Plan de nettoyage\n",
    "\n",
    "<img style='float:right;' src='data:image/png;base64,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'>\n",
    "\n",
    "<br>\n",
    "<span style='font-size:20px'>\n",
    "La première étape est de gérer les erreurs évidentes pour produire un jeu de données que nous pourrons explorer plus en détails. Pour l'instant, nous ne pouvons procéder à l'EDA avec le jeu de données que nous avons. \n",
    "Encore moins intégrer un autre type de données, comme les données météo.\n",
    "Le processus de nettoyage est un processus itératif.  Nous ne pouvons normalement pas tout corriger du premier coup.\n",
    "</span>"
   ]
  },
  {
   "cell_type": "markdown",
   "metadata": {
    "id": "Eituqb1MrsiK",
    "slideshow": {
     "slide_type": "slide"
    }
   },
   "source": [
    "<span style='font-size:20px'>\n",
    "Quels sont les étapes ? <br>\n",
    "    \n",
    "    \n",
    "<img style='float:right;' src='data:image/png;base64,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'>\n",
    "\n",
    "\n",
    "1. Gérer la différence entre le nombre de rangées pour pouvoir concaténer les onglets en une seule structure de données.<br>\n",
    "<em>\n",
    "    <ul>\n",
    "    <li>Nous savons que la dernière ligne de données contient le total pour l'Ontario</li>\n",
    "    <li>Nous savons que les mots 'Rendement' et 'Production' se trouvent dans la rangée contenant les noms de colonnes (header)</li>\n",
    "    </ul>\n",
    "</em><br><br>\n",
    "\n",
    "\n",
    "2. Standardiser le vocabulaire\n",
    "<em>\n",
    "    <ul>\n",
    "    <li>Nous ne voulons pas garder les mots clés 'Division', 'County',... dans le nom des régions</li>\n",
    "    \n",
    "    <li>Nous voulons harmoniser les noms de colonnes</li>\n",
    "    \n",
    "    <li>Nous voulons standardiser les valeurs nulles</li>\n",
    "        </ul>\n",
    "</em>\n",
    "\n",
    "</span>\n"
   ]
  },
  {
   "cell_type": "markdown",
   "metadata": {
    "slideshow": {
     "slide_type": "subslide"
    }
   },
   "source": [
    "<span style='font-size:20px'>\n",
    "    \n",
    "3.  Extraire les années des noms d'onglets et les ajouter aux données<br>\n",
    "<em>\n",
    "     <ul>\n",
    "   <li>Malgré les erreurs dans le nom des onglets, ce qui nous intéresse est l'année que nous voulons conserver</li>\n",
    "     </ul>\n",
    "</em><br>\n",
    "\n",
    "\n",
    "4. Nous voulons combiner les données des différents onglets en une seule matrice.  Ce n'est pas très pratique de travailler avec 19 matrices de données.  \n",
    "</span>"
   ]
  },
  {
   "cell_type": "markdown",
   "metadata": {
    "ExecuteTime": {
     "end_time": "2023-07-10T15:51:11.369697Z",
     "start_time": "2023-07-10T15:51:11.365959Z"
    },
    "slideshow": {
     "slide_type": "slide"
    }
   },
   "source": [
    "### Concaténation des dataframes"
   ]
  },
  {
   "cell_type": "code",
   "execution_count": 7,
   "metadata": {
    "ExecuteTime": {
     "end_time": "2023-07-17T00:37:55.296438Z",
     "start_time": "2023-07-17T00:37:55.241230Z"
    },
    "colab": {
     "base_uri": "https://localhost:8080/"
    },
    "id": "kKQ-0Sk0vraK",
    "outputId": "1e354949-ee28-4b8f-80bd-1d688aca235d",
    "slideshow": {
     "slide_type": "-"
    }
   },
   "outputs": [],
   "source": [
    "new_cols = ['Region', 'Acres ensemencée', 'Acres récoltée', \"Rendement (boisseaux à l'acre)\",\n",
    "            \"Production ('000 boisseaux)\", \"Production ('000 tonnes métriques)\",  \"Onglet\", \"Annee\"]\n",
    "\n",
    "data = pd.DataFrame()\n",
    "for sheet, df in dfs.items():  \n",
    "    df['Onglet'] = sheet\n",
    "    word_in_column = df.columns.str.contains(\"Production\", regex=True).any() # mot-clé pour trouver le header\n",
    "    if word_in_column == False:\n",
    "        header = df.iloc[0,:].values # le header se trouve dans la première rangée\n",
    "        df = df.iloc[1:,:] # les données commencent à la seconde rangée\n",
    "        df.columns = header\n",
    "      \n",
    "    year = int(re.search(r'\\d+', sheet).group())\n",
    "    df['Annee'] = 2010 if year == 201 else year\n",
    "    \n",
    "    df.columns = new_cols\n",
    "    \n",
    "    last_row_index = df.Region.tolist().index('Ontario')\n",
    "    df = df.iloc[:last_row_index, :]\n",
    "    data = pd.concat([data, df], axis=0, ignore_index=True)"
   ]
  },
  {
   "cell_type": "code",
   "execution_count": 8,
   "metadata": {
    "ExecuteTime": {
     "end_time": "2023-07-17T00:37:55.322693Z",
     "start_time": "2023-07-17T00:37:55.299355Z"
    },
    "slideshow": {
     "slide_type": "subslide"
    }
   },
   "outputs": [],
   "source": [
    "data = data.loc[~data.Region.str.contains('Ontario'),:]\n",
    "data = data.loc[~data.Region.str.contains('Région'),:]\n",
    "data.replace('-', 0, inplace=True)\n",
    "data.replace('x', 0, inplace=True)\n",
    "\n",
    "# Optionnel. Nous pouvons renommer les colonnes pour les rendre plus lisibles avec rename\n",
    "# Nous aurions pu faire cela dans la boucle plus haut en utilisant ces noms dans new_cols\n",
    "new_column_names = { \"Acres ensemencée\": \"Ensemencee\",\n",
    "                     \"Acres récoltée\": \"Recoltee\",\n",
    "                     \"Rendement (boisseaux à l'acre)\": \"Rendement\",\n",
    "                     \"Production ('000 boisseaux)\": \"Production_boisseaux\",\n",
    "                     \"Production ('000 tonnes métriques)\": \"Production_tonnes\",\n",
    "                     \"Year\": \"Annee\",\n",
    "                     \"Sheet\": \"Onglet\"}\n",
    "\n",
    "data.rename(columns=new_column_names, inplace=True)"
   ]
  },
  {
   "cell_type": "markdown",
   "metadata": {
    "slideshow": {
     "slide_type": "slide"
    }
   },
   "source": [
    "Regardons de quoi a l'air la nouvelle matrice de données.  \n",
    "Est-ce que les dimensions semblent bien?"
   ]
  },
  {
   "cell_type": "code",
   "execution_count": 9,
   "metadata": {
    "ExecuteTime": {
     "end_time": "2023-07-17T00:37:55.360531Z",
     "start_time": "2023-07-17T00:37:55.336485Z"
    }
   },
   "outputs": [],
   "source": [
    "print('Dimension du dataframe: ', data.shape)\n",
    "data.head(2)"
   ]
  },
  {
   "cell_type": "code",
   "execution_count": 10,
   "metadata": {
    "ExecuteTime": {
     "end_time": "2023-07-17T00:37:55.382613Z",
     "start_time": "2023-07-17T00:37:55.367419Z"
    },
    "colab": {
     "base_uri": "https://localhost:8080/",
     "height": 380
    },
    "id": "bBgI0C_u1wXd",
    "outputId": "6356d34e-048c-4be6-d808-3a79dccff430",
    "slideshow": {
     "slide_type": "slide"
    }
   },
   "outputs": [],
   "source": [
    "data.tail(2)"
   ]
  },
  {
   "cell_type": "markdown",
   "metadata": {
    "id": "MkveQjIW2vfe",
    "slideshow": {
     "slide_type": "slide"
    }
   },
   "source": [
    " ### Uniformisation des noms de régions \n",
    " \n",
    "Nous avons des noms de régions non uniformes entre les onglets.  Les onglets plus anciens incluent le type de division administrative (County, District, Division, ...)"
   ]
  },
  {
   "cell_type": "code",
   "execution_count": 11,
   "metadata": {
    "ExecuteTime": {
     "end_time": "2023-07-17T00:37:55.403947Z",
     "start_time": "2023-07-17T00:37:55.385465Z"
    },
    "colab": {
     "base_uri": "https://localhost:8080/",
     "height": 723
    },
    "id": "vq5XcLIr2Dx-",
    "outputId": "702676ef-50f4-4a7b-afd1-83bf08f092fd",
    "scrolled": true,
    "slideshow": {
     "slide_type": "slide"
    }
   },
   "outputs": [],
   "source": [
    "data.loc[data.Region.str.contains('Brant'),:].tail(5)"
   ]
  },
  {
   "cell_type": "markdown",
   "metadata": {
    "slideshow": {
     "slide_type": "slide"
    }
   },
   "source": [
    "#### Comment uniformiser les noms des régions ?\n",
    "\n",
    "<br>\n",
    "\n",
    "<span style='font-size:20px'>\n",
    "  <ul> \n",
    "      <li>Retirer les totaux par régions (\"Région du Nord de l'Ontario\")</li>\n",
    "   <li>Remplacer les mots : County, Regional Municipality, District, Counties, Division, District Municipality, United Counties</li>\n",
    "   <li> Que faire avec le Grand ? (Grand Sudbury &rarr; est la ville, Sudbury est le district)</li>\n",
    "      </ul>\n",
    "    </span>"
   ]
  },
  {
   "cell_type": "code",
   "execution_count": 12,
   "metadata": {
    "ExecuteTime": {
     "end_time": "2023-07-17T00:37:55.421404Z",
     "start_time": "2023-07-17T00:37:55.406881Z"
    },
    "colab": {
     "base_uri": "https://localhost:8080/"
    },
    "id": "D0UwY8Gd2iqK",
    "outputId": "b83a2f91-f3a3-4709-84cc-b4c2817aae3a",
    "scrolled": true,
    "slideshow": {
     "slide_type": "slide"
    }
   },
   "outputs": [],
   "source": [
    "# Le code recherche les mots communs à plusieurs régions dans une liste de noms de régions. \n",
    "# Il stocke ces mots dans la liste \"words\" afin de les utiliser plus tard pour nettoyer les noms de région.\n",
    "\n",
    "regions = data.Region.unique()\n",
    "words = []\n",
    "for region in regions:\n",
    "    found = [r for r in regions if region in r]\n",
    "    if len(found) > 1:\n",
    "        print(region, found)\n",
    "        words += [r.replace(region, '') for r in found if r!=region]\n",
    "words = list(set(words))"
   ]
  },
  {
   "cell_type": "code",
   "execution_count": 13,
   "metadata": {
    "ExecuteTime": {
     "end_time": "2023-07-17T00:37:55.435419Z",
     "start_time": "2023-07-17T00:37:55.424351Z"
    },
    "id": "b1XPPLPS2ixe",
    "slideshow": {
     "slide_type": "slide"
    }
   },
   "outputs": [],
   "source": [
    "# Le code modifie les noms de région.\n",
    "# Il utilise la liste de mots extraits précédemment pour supprimer ces mots des noms de région\n",
    "\n",
    "words.remove('Grand ')\n",
    "words = sorted(list(set(words)))\n",
    "words.append(' Municipality')\n",
    "\n",
    "def clean_region(region):\n",
    "    for word in words:\n",
    "        region = region.replace(word, '')\n",
    "    return region\n",
    "\n",
    "data.loc[data.Region == 'Sudbury Regional Municipality', 'Region'] = 'Grand Sudbury'\n",
    "data.loc[:, 'Region'] = data.Region.apply(lambda x: clean_region(x))"
   ]
  },
  {
   "cell_type": "markdown",
   "metadata": {
    "id": "S1bJJCqpxq1n",
    "slideshow": {
     "slide_type": "slide"
    }
   },
   "source": [
    "## Exploration des données\n",
    "\n",
    "    \n",
    "Maintenant que nous avons une matrice de données manipulable, nous allons explorer les données pour mieux les comprendre et corriger les erreurs restantes.\n",
    "\n",
    "Comment ? En générant des graphiques et des statistiques\n",
    "    \n"
   ]
  },
  {
   "cell_type": "code",
   "execution_count": 14,
   "metadata": {
    "ExecuteTime": {
     "end_time": "2023-07-17T00:37:55.469471Z",
     "start_time": "2023-07-17T00:37:55.437776Z"
    },
    "colab": {
     "base_uri": "https://localhost:8080/",
     "height": 647
    },
    "id": "BdHxMEKV2i0m",
    "outputId": "d386ac59-92d7-48b7-f794-b31806fda76a",
    "scrolled": true,
    "slideshow": {
     "slide_type": "slide"
    }
   },
   "outputs": [],
   "source": [
    "# Inspection des statistiques des variables \n",
    "\n",
    "data[0:-2].describe()"
   ]
  },
  {
   "cell_type": "markdown",
   "metadata": {
    "id": "6fmcEcy33iVL",
    "slideshow": {
     "slide_type": "slide"
    }
   },
   "source": [
    "### Visualisation\n",
    "\n",
    "\n",
    "La meilleure façon de comprendre un jeu de données est en l'explorant à l'aide de graphique.  Il est important d'identifier quelles informations et quels graphiques sont pertinents.  La visualisation doit avoir une intention.\n"
   ]
  },
  {
   "cell_type": "markdown",
   "metadata": {
    "slideshow": {
     "slide_type": "slide"
    }
   },
   "source": [
    "#### Heatmap\n",
    "\n",
    "Ce graphique met en relation deux variables qualitatives (catégories) (ici, l'année et la région) et une variable continue (ici, le rendement)."
   ]
  },
  {
   "cell_type": "code",
   "execution_count": 15,
   "metadata": {
    "ExecuteTime": {
     "end_time": "2023-07-17T00:37:56.292903Z",
     "start_time": "2023-07-17T00:37:55.471961Z"
    },
    "slideshow": {
     "slide_type": "subslide"
    }
   },
   "outputs": [],
   "source": [
    "mx = data.pivot_table(index=\"Annee\", columns=\"Region\", values=\"Rendement\")\n",
    "fig = plt.figure(figsize=(12, 5))\n",
    "sns.heatmap(mx, cmap=\"GnBu\",  linewidths=.5)\n",
    "plt.show()"
   ]
  },
  {
   "cell_type": "markdown",
   "metadata": {
    "slideshow": {
     "slide_type": "subslide"
    }
   },
   "source": [
    "Nous pouvons voir que certaines régions ont un rendement de 0 et que certaines régions ont des valeurs manquantes.  \n",
    "\n",
    "Le rendement semble plus élevé dans les années plus récentes mais il y a beaucoup de valeurs à 0."
   ]
  },
  {
   "cell_type": "markdown",
   "metadata": {
    "slideshow": {
     "slide_type": "slide"
    }
   },
   "source": [
    "Nous pouvons revisiter le heatmap et inclure la valeur de rendement comme annotation."
   ]
  },
  {
   "cell_type": "code",
   "execution_count": 16,
   "metadata": {
    "ExecuteTime": {
     "end_time": "2023-07-17T00:37:58.355533Z",
     "start_time": "2023-07-17T00:37:56.295285Z"
    },
    "id": "8A22dcLeM0Ze",
    "slideshow": {
     "slide_type": "subslide"
    }
   },
   "outputs": [],
   "source": [
    "fig, ax = plt.subplots(figsize=(20,5))\n",
    "mx = data.pivot(index=\"Annee\", columns=\"Region\", values=\"Rendement\")\n",
    "sns.heatmap(mx, annot=True, ax=ax, fmt=\".0f\", cmap='GnBu', linewidths=.5)\n",
    "plt.title('Rendement par région et par année')\n",
    "plt.show()"
   ]
  },
  {
   "cell_type": "markdown",
   "metadata": {
    "slideshow": {
     "slide_type": "slide"
    }
   },
   "source": [
    "#### Clustermap\n",
    "\n",
    "Comme le heatmap, le graphique met en relation deux variables catégoriques et une variable continue.\n",
    "\n",
    "En plus, il présente un clustering hiérarchique des années et des régions basé sur le rendement.  Les années ayant des profils de rendement similaires parmi les régions sont positionnés plus près et les régions ayant des profils de rendement similaires parmi les années sont positionnés plus près.\n",
    "\n"
   ]
  },
  {
   "cell_type": "code",
   "execution_count": 17,
   "metadata": {
    "ExecuteTime": {
     "end_time": "2023-07-17T00:37:59.234374Z",
     "start_time": "2023-07-17T00:37:58.357714Z"
    },
    "colab": {
     "base_uri": "https://localhost:8080/",
     "height": 428,
     "referenced_widgets": [
      "2c7fce91632047e99a5acbb44f342543",
      "f0e63865d701445e9d9220e49dea9d9d",
      "44fad488eeb14d81808b10617d23b823",
      "eec0824a00a84f93be3b4b1f03d132b4",
      "a4eaaf8d35bf4c73a2889acfdfc8ff73",
      "63ff63060dcb4988b0001f9c3ba8e14f",
      "fa504392c8314a87b84a3197c2d7c9ee",
      "89f234538c4b4edebfd5603ce15973bc",
      "592a4d24aefd4302b7c583695210d660",
      "dd7fa7534c6b45339576aedabdcabebc",
      "0b20c35bbe0c46ed8c64d7500734b20d",
      "05f95916eee849b8b198c222eb76cdea",
      "16302b3a77214c5db017850c331645de",
      "3d8f5550fcb04168a5f125d8e42c3c60",
      "a702d46271034fe48b1547e15323abcb",
      "7b248979d792470185137a9f2b9c48c3",
      "cf5a0966d43447c0bf5796d7a3bcc2f4",
      "04bb82951d5f47f4a346b630303a9bf7",
      "dc6396f455b444b286708c892706c6b9",
      "e909aaafb9a745fdae33a32e954cdbd6",
      "250ec2fc0df844679072a9d7462e065d",
      "d56c340f31344ec389af9c511188603f"
     ]
    },
    "id": "gwRrZOS2xx27",
    "outputId": "7084db09-b202-42f1-9c29-4774c25c77f0",
    "slideshow": {
     "slide_type": "subslide"
    }
   },
   "outputs": [],
   "source": [
    "mx = data.pivot_table(index=\"Annee\", columns=\"Region\", values=\"Rendement\").fillna(0)\n",
    "sns.clustermap(mx.T, cmap=\"GnBu\",  linewidths=.5, yticklabels=True)\n",
    "plt.show()    "
   ]
  },
  {
   "cell_type": "markdown",
   "metadata": {
    "ExecuteTime": {
     "end_time": "2023-07-10T16:22:18.995973Z",
     "start_time": "2023-07-10T16:22:18.982441Z"
    },
    "slideshow": {
     "slide_type": "subslide"
    }
   },
   "source": [
    "<span style='font-size:20px'>\n",
    "Nous observons trois groupes principaux pour les régions, dominés par la présence de valeurs nulles.  Pour les années, il y a 2 groupes, dominés par le même critère.  \n",
    "\n",
    " <br>\n",
    "Il y a donc 11 régions pour lesquelles les valeurs sont manquantes pour la plupart des années (Muskoca, ThunderBay, ...).  Et de 2016 à 2022, il manque plus de données.\n",
    "\n",
    "Il y a quelques régions qui ont un rendement supérieur à 150.\n",
    "</span>"
   ]
  },
  {
   "cell_type": "markdown",
   "metadata": {
    "slideshow": {
     "slide_type": "slide"
    }
   },
   "source": [
    "#### Pairplot\n",
    "\n",
    "Ce graphique met en relation deux variables.  Il permet de voir qualitativement si des variables sont corrélées en entre elles en plus de présenter la distribution de chaque variable.  Nous pouvons voir que :\n",
    "\n"
   ]
  },
  {
   "cell_type": "code",
   "execution_count": 18,
   "metadata": {
    "ExecuteTime": {
     "end_time": "2023-07-17T00:38:07.608867Z",
     "start_time": "2023-07-17T00:37:59.236750Z"
    },
    "colab": {
     "base_uri": "https://localhost:8080/",
     "height": 1000
    },
    "id": "6wN7AMRu4A_a",
    "outputId": "17f9acf9-416d-4744-a4ba-fb3eb53f871c",
    "scrolled": true,
    "slideshow": {
     "slide_type": "subslide"
    }
   },
   "outputs": [],
   "source": [
    "fig = plt.figure(figsize=(10, 4))\n",
    "sns.pairplot(data)\n",
    "plt.show()"
   ]
  },
  {
   "cell_type": "markdown",
   "metadata": {
    "ExecuteTime": {
     "end_time": "2023-07-10T19:07:37.788284Z",
     "start_time": "2023-07-10T19:07:37.782105Z"
    },
    "slideshow": {
     "slide_type": "subslide"
    }
   },
   "source": [
    "* la distribution du rendement est bimodale.  \n",
    "    * il suit une distribution normale \n",
    "    * il y une grande proportion de valeurs égales à 0\n",
    "\n",
    "* le nombre d'acres récoltées est corrélé au nombre d'acres ensemencées.\n",
    "* la production de boisseaux est proportionnelle au nombre d'acres ensemencées\n",
    "* le rendement n'est pas corrélé avec les autres variables\n",
    "* il y a un grand nombre d'entrées à 0"
   ]
  },
  {
   "cell_type": "markdown",
   "metadata": {
    "slideshow": {
     "slide_type": "slide"
    }
   },
   "source": [
    "#### Graphes de distribution\n",
    "\n",
    "L'exploration des différentes variables peut soulever des questions au niveau de la logique.  \n",
    "Ici, est-ce que c'est normal d'avoir des cas où l'on récolte plus que l'on ensemence? \n",
    "\n",
    "L'histogramme du pourcentage d'acres récoltées versus ensemencées montre qu'il y a des cas à investiguer."
   ]
  },
  {
   "cell_type": "code",
   "execution_count": 19,
   "metadata": {
    "ExecuteTime": {
     "end_time": "2023-07-17T00:38:07.848422Z",
     "start_time": "2023-07-17T00:38:07.611184Z"
    },
    "colab": {
     "base_uri": "https://localhost:8080/",
     "height": 472
    },
    "id": "aZCJF6ay2WZK",
    "outputId": "32d8330c-e5af-4028-c2a5-42bd4eeb8799",
    "slideshow": {
     "slide_type": "subslide"
    }
   },
   "outputs": [],
   "source": [
    "fig = plt.figure(figsize=(5, 3))\n",
    "plt.hist(data[\"Recoltee\"]/data[\"Ensemencee\"]*100, bins=40, color='#2A8CC4'\n",
    "         , edgecolor='black', linewidth=0.5)\n",
    "\n",
    "plt.axvline(x=100, c='#40BEAD', linestyle='--')\n",
    "plt.title(\"Pourcentage d'acres Recoltées/Ensemencées\")\n",
    "plt.xlabel(\"Pourcentage (Récoltées/Ensemencées)\")\n",
    "plt.show()"
   ]
  },
  {
   "cell_type": "code",
   "execution_count": 20,
   "metadata": {
    "ExecuteTime": {
     "end_time": "2023-07-17T00:38:07.877787Z",
     "start_time": "2023-07-17T00:38:07.851352Z"
    },
    "colab": {
     "base_uri": "https://localhost:8080/",
     "height": 596
    },
    "id": "NanTxPAU5j4B",
    "outputId": "f487c1bb-37ae-468a-aeac-54e91cd7b27e",
    "slideshow": {
     "slide_type": "subslide"
    }
   },
   "outputs": [],
   "source": [
    "data.loc[(data[\"Recoltee\"] == 0) & (data[\"Ensemencee\"] > 0), :].head()"
   ]
  },
  {
   "cell_type": "code",
   "execution_count": 21,
   "metadata": {
    "ExecuteTime": {
     "end_time": "2023-07-17T00:38:07.904016Z",
     "start_time": "2023-07-17T00:38:07.881138Z"
    },
    "colab": {
     "base_uri": "https://localhost:8080/",
     "height": 170
    },
    "id": "uO_tTJb235TO",
    "outputId": "5d31397a-c166-4c69-b7bb-b50d26ee9a7a",
    "slideshow": {
     "slide_type": "subslide"
    }
   },
   "outputs": [],
   "source": [
    "data.loc[data[\"Recoltee\"] > data[\"Ensemencee\"], :]"
   ]
  },
  {
   "cell_type": "code",
   "execution_count": 22,
   "metadata": {
    "ExecuteTime": {
     "end_time": "2023-07-17T00:38:08.484341Z",
     "start_time": "2023-07-17T00:38:07.908300Z"
    },
    "slideshow": {
     "slide_type": "slide"
    }
   },
   "outputs": [],
   "source": [
    "# Rendement moyen par region\n",
    "fig, ax = plt.subplots(figsize=(8, 4))\n",
    "data.loc[data.Rendement > 0, :].groupby(\"Region\")\\\n",
    "    .agg({\"Rendement\": \"mean\"}) \\\n",
    "    .sort_values(by=\"Rendement\", ascending=False) \\\n",
    "    .plot(kind='bar', ax=ax, color=colors[0])\n",
    "plt.ylabel('Rendement moyen (boisseaux/acre)')\n",
    "plt.show()"
   ]
  },
  {
   "cell_type": "code",
   "execution_count": 23,
   "metadata": {
    "ExecuteTime": {
     "end_time": "2023-07-17T00:38:09.024948Z",
     "start_time": "2023-07-17T00:38:08.486546Z"
    },
    "slideshow": {
     "slide_type": "slide"
    }
   },
   "outputs": [],
   "source": [
    "# Nombre d'années pour lesquelles les rendements sont supérieurs à 0\n",
    "fig, ax = plt.subplots(figsize=(8, 4))\n",
    "data.loc[data.Rendement > 0, :].groupby(\"Region\") \\\n",
    "            .agg({\"Rendement\": \"count\"}) \\\n",
    "            .sort_values(by=\"Rendement\", ascending=False) \\\n",
    "            .plot(kind='bar', ax=ax, color=colors[0])\n",
    "plt.ylabel(\"Nombre d'années\")\n",
    "plt.title(\"Nombre d'années pour lesquelles les rendements sont supérieurs à 0\")\n",
    "plt.show()"
   ]
  },
  {
   "cell_type": "markdown",
   "metadata": {
    "slideshow": {
     "slide_type": "slide"
    }
   },
   "source": [
    "#### Boxplot \n",
    "\n",
    "Le boxplot nous permet de facilement mettre en relation des distributions.  Nous pouvons donc avoir un aperçu du rendement par région et par année.\n",
    "Le boxplot présente la valeur médiane et les valeurs quantiles ansi que les valeurs aberrantes de la distribution."
   ]
  },
  {
   "cell_type": "code",
   "execution_count": 24,
   "metadata": {
    "ExecuteTime": {
     "end_time": "2023-07-17T00:38:09.605164Z",
     "start_time": "2023-07-17T00:38:09.027029Z"
    },
    "colab": {
     "base_uri": "https://localhost:8080/",
     "height": 710
    },
    "id": "X8zwGN4TMhXg",
    "outputId": "be7ea0d5-e616-464e-ba12-094574165106",
    "scrolled": true,
    "slideshow": {
     "slide_type": "subslide"
    }
   },
   "outputs": [],
   "source": [
    "sns.boxplot(data, y='Rendement', x='Annee', color=colors[1])\n",
    "plt.xticks(rotation=90)\n",
    "plt.suptitle(\"Rendement d'avoine par région\")\n",
    "plt.title(f\"Les données proviennent de {len(data.Region.unique())} régions\", fontsize=10)\n",
    "plt.show()"
   ]
  },
  {
   "cell_type": "code",
   "execution_count": 25,
   "metadata": {
    "ExecuteTime": {
     "end_time": "2023-07-17T00:38:10.373105Z",
     "start_time": "2023-07-17T00:38:09.607597Z"
    },
    "id": "OeMfu56jMl1f",
    "slideshow": {
     "slide_type": "subslide"
    }
   },
   "outputs": [],
   "source": [
    "fig = plt.figure(figsize=(10, 4))\n",
    "sns.boxplot(data,  y='Rendement', x='Region', color=colors[1])\n",
    "plt.xticks(rotation=90)\n",
    "plt.suptitle(\"Rendement d'avoine par région\")\n",
    "plt.title(\"Les données représentées sont de 2004-2022\", fontsize=10)\n",
    "plt.show()"
   ]
  },
  {
   "cell_type": "markdown",
   "metadata": {},
   "source": [
    "Compte tenu des valeurs manquantes, les boxplots ne nous renseignent que partiellement sur les différences de distributions entre les années et les régions."
   ]
  },
  {
   "cell_type": "markdown",
   "metadata": {
    "slideshow": {
     "slide_type": "slide"
    }
   },
   "source": [
    "#### Graphiques spécifiques\n",
    "\n",
    "Nous construirons des graphiques particuliers pour répondre à des questions spécifiques.\n",
    "\n",
    "Par exemple, ici on veut suivre le rendement au fil des ans dans trois régions bien précises."
   ]
  },
  {
   "cell_type": "code",
   "execution_count": 26,
   "metadata": {
    "ExecuteTime": {
     "end_time": "2023-07-17T00:38:10.663470Z",
     "start_time": "2023-07-17T00:38:10.375219Z"
    },
    "slideshow": {
     "slide_type": "-"
    }
   },
   "outputs": [],
   "source": [
    "fig, ax = plt.subplots(figsize=(5,3))\n",
    "\n",
    "regions = ['Grey', 'Bruce', 'Waterloo']\n",
    "for i,region in enumerate(regions):\n",
    "    data.loc[data.Region==region,:].plot(x='Annee', y='Rendement', label=region, marker='o', ax=ax, color=colors[i])\n",
    "\n",
    "plt.xticks(data.Annee.unique(), rotation=90)\n",
    "plt.ylabel('Rendement (boisseaux/acre)')\n",
    "plt.title(f'Rendement - avoine')\n",
    "plt.ylim(0,data.Rendement.max()+5)\n",
    "plt.show()"
   ]
  },
  {
   "cell_type": "code",
   "execution_count": 27,
   "metadata": {
    "ExecuteTime": {
     "end_time": "2023-07-17T00:38:10.680249Z",
     "start_time": "2023-07-17T00:38:10.670933Z"
    },
    "slideshow": {
     "slide_type": "slide"
    }
   },
   "outputs": [],
   "source": [
    "def plot_subset(data, x, y, values, values_col, y_units='', x_units='', capture_plot=False):            \n",
    "    '''\n",
    "    Graphique de y en fonction x pour les valeurs spécifiées\n",
    "    Exemple : \n",
    "    plot_subset(data, x='Annee', y='Rendement', values=['Sudbury', 'Grand Sudbury'],\n",
    "                values_col='Region', y_units='boisseaux/acre')\n",
    "    '''\n",
    "    _, ax = plt.subplots(figsize=(5,3))\n",
    "      \n",
    "    for value in values :\n",
    "        tmp = data.loc[data[values_col]==value, :]\n",
    "        tmp.plot(x=x, y=y, label=value, marker='o', ax=ax)\n",
    "        \n",
    "    plt.xticks(data[x].unique(), rotation=90)\n",
    "    plt.ylim(data[y].min()-5, data[y].max()+5)\n",
    "    plt.ylabel(f'{y.title()} ({y_units})')\n",
    "    plt.xlabel(f'{x.title()} ({x_units})')\n",
    "    plt.title(f'{y.title()} par {values_col.lower()} en fonction de(s) {x.lower()}')\n",
    "    plt.legend(loc='center left', bbox_to_anchor=(1, 0.5))\n",
    "   \n",
    "    plt.show()\n"
   ]
  },
  {
   "cell_type": "code",
   "execution_count": 28,
   "metadata": {
    "ExecuteTime": {
     "end_time": "2023-07-17T00:38:10.959114Z",
     "start_time": "2023-07-17T00:38:10.683072Z"
    },
    "slideshow": {
     "slide_type": "subslide"
    }
   },
   "outputs": [],
   "source": [
    "plot_subset(data, x='Annee', y='Rendement', values=['Sudbury', 'Grand Sudbury'],\n",
    "                values_col='Region', y_units='boisseaux/acre')"
   ]
  },
  {
   "cell_type": "markdown",
   "metadata": {
    "slideshow": {
     "slide_type": "slide"
    }
   },
   "source": [
    "### Exploration avec le ProfileReport"
   ]
  },
  {
   "cell_type": "markdown",
   "metadata": {},
   "source": [
    "<span style='font-size:20px'>\n",
    "Cette librairie nous aide à sauver du temps en générant des graphiques standards et des statistiques pour notre jeu de données.\n",
    "\n",
    "\n",
    "    \n",
    "Des logiciels comme <a href=\"https://openrefine.org\">OpenRefine</a> et <a href=\"https://orangedatamining.com\">Orange</a> peuvent aussi nous aider à faire l'exploration des données.\n",
    "    \n",
    "    \n",
    "</span>"
   ]
  },
  {
   "cell_type": "code",
   "execution_count": 29,
   "metadata": {
    "ExecuteTime": {
     "end_time": "2023-07-17T00:38:23.369509Z",
     "start_time": "2023-07-17T00:38:10.961797Z"
    },
    "slideshow": {
     "slide_type": "-"
    }
   },
   "outputs": [],
   "source": [
    "# Compter environ 20-30 secondes\n",
    "report = ProfileReport(data, title=\"Profiling Report\")\n",
    "report"
   ]
  },
  {
   "cell_type": "markdown",
   "metadata": {
    "id": "qRkiOPX6yqtU",
    "slideshow": {
     "slide_type": "slide"
    }
   },
   "source": [
    "## Sauvegarde du fichier de données nettoyées"
   ]
  },
  {
   "cell_type": "markdown",
   "metadata": {},
   "source": [
    "<span style='font-size:20px'>\n",
    "\n",
    "Le processus de nettoyage est un processus itératif.  Nous pouvons sauvegarder une première version des données en sachant que nous y reviendrons au besoin si des problèmes de qualité sont identifiés en aval. \n",
    "        \n",
    "</span>"
   ]
  },
  {
   "cell_type": "code",
   "execution_count": 30,
   "metadata": {
    "ExecuteTime": {
     "end_time": "2023-07-17T00:38:23.388506Z",
     "start_time": "2023-07-17T00:38:23.372821Z"
    },
    "id": "lA1MVpzK6DaY"
   },
   "outputs": [],
   "source": [
    "data.to_csv('rendement_avoine_v1.csv')"
   ]
  },
  {
   "cell_type": "markdown",
   "metadata": {
    "slideshow": {
     "slide_type": "slide"
    }
   },
   "source": [
    "## À votre tour\n",
    "<img style='float:right;'  src='https://drive.google.com/uc?export=view&id=1HMGzZe3dGBk9Zgpk0tKtbQarFu3WMrBK' width='100px'>  </a>\n",
    "\n",
    "\n",
    "* Quelle autre visualisation pourriez-vous faire pour mieux comprendre les données ? \n",
    "* Quelles questions supplémentaires pourraient être posées ?\n",
    "* Qu'avons-nous oublié de considérer ?\n",
    "\n",
    "\n",
    "Ce n'est pas tout de créeer des graphiques, il faut aussi les interpréter.  \n",
    "Pouvez-vous produire un graphique et en tirer une conclusion ou une observation sur les données.\n"
   ]
  }
 ],
 "metadata": {
  "celltoolbar": "Slideshow",
  "colab": {
   "collapsed_sections": [
    "3kP1ZffLciz6",
    "C8mpHaivctf1",
    "od48YyfZxhz5",
    "ETD_MvuZyerD"
   ],
   "provenance": [],
   "toc_visible": true
  },
  "kernelspec": {
   "display_name": "Python 3 (ipykernel)",
   "language": "python",
   "name": "python3"
  },
  "language_info": {
   "codemirror_mode": {
    "name": "ipython",
    "version": 3
   },
   "file_extension": ".py",
   "mimetype": "text/x-python",
   "name": "python",
   "nbconvert_exporter": "python",
   "pygments_lexer": "ipython3",
   "version": "3.8.9"
  },
  "toc": {
   "base_numbering": 1,
   "nav_menu": {},
   "number_sections": true,
   "sideBar": true,
   "skip_h1_title": false,
   "title_cell": "Table of Contents",
   "title_sidebar": "Contents",
   "toc_cell": false,
   "toc_position": {},
   "toc_section_display": true,
   "toc_window_display": false
  }
 },
 "nbformat": 4,
 "nbformat_minor": 1
}

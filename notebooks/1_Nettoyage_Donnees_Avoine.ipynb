{
  "cells": [
    {
      "attachments": {},
      "cell_type": "markdown",
      "metadata": {
        "id": "ZM3EtIlUxau6"
      },
      "source": [
        "# Les données de production d'avoine par région en Ontario\n",
        "\n"
      ]
    },
    {
      "attachments": {},
      "cell_type": "markdown",
      "metadata": {},
      "source": [
        "<img height='250px' src='https://ontariograinfarmer.ca/wp-content/uploads/2017/09/gluten-free-oats-1024x576.jpg'>"
      ]
    },
    {
      "attachments": {},
      "cell_type": "markdown",
      "metadata": {
        "id": "UlkOp2jtokeq"
      },
      "source": [
        "\n",
        "\n",
        "Des données présentant les rendements de production d'avoine pour différentes régions de l'Ontario sont disponibles sur le site:\n",
        "\n",
        "https://data.ontario.ca/dataset/ontario-field-crop-area-and-production-estimates-by-county\n",
        "\n",
        "Les données sont pour la période de 2004 à 2012.  Les données sont accessibles sous la forme d'un fichier Excel.  \n",
        "Le fichier Excel contient plusieurs onglets, un par année. Ce sont des données numériques et chronologiques.\n",
        "\n",
        "\n",
        "<a href='https://data.ontario.ca/dataset/ontario-field-crop-area-and-production-estimates-by-county'>\n",
        "<img src='https://drive.google.com/uc?export=view&id=1lirh_gkQatPcBZKXtpgWYBHQ2Ba-lzCs' height='300px'>  </a>\n",
        "<span>&nbsp&nbsp&nbsp&nbsp</span>\n",
        "<img alt='Ontario_Avoine_Excel.png' src='https://drive.google.com/uc?export=view&id=1q2-DHgVFVHZ7vMQtQR5RuVw_oWgKuciq' height='300px'>"
      ]
    },
    {
      "attachments": {},
      "cell_type": "markdown",
      "metadata": {},
      "source": [
        "Pour utiliser ces données, il faut : \n",
        "\n",
        "<pre>\n",
        "Les charger --------->  Les regarder/exporer  ----------> Les nettoyer/corriger   ----------> les sauvegarder\n",
        "                                ^                                |\n",
        "                                |                                |\n",
        "                                |                                |\n",
        "                                ----------------------------------                                                        \n",
        "\n",
        "\n",
        "</pre>"
      ]
    },
    {
      "attachments": {},
      "cell_type": "markdown",
      "metadata": {
        "id": "od48YyfZxhz5"
      },
      "source": [
        "## Chargement des librairies python"
      ]
    },
    {
      "cell_type": "code",
      "execution_count": null,
      "metadata": {
        "colab": {
          "base_uri": "https://localhost:8080/"
        },
        "id": "FOX8cyHSpE9b",
        "outputId": "c571dfa7-3fa2-48a8-9077-c8d7949e0a2f"
      },
      "outputs": [],
      "source": [
        "# Accès à mes fichiers sur Google Drive\n",
        "#from google.colab import drive\n",
        "#drive.mount('/content/drive')\n",
        "#%cd /content/drive/My Drive/\n",
        "\n",
        "# Installation et chargement des librairies nécessaires\n",
        "import re\n",
        "import os\n",
        "import matplotlib.pyplot as plt\n",
        "import seaborn as sns\n",
        "import pandas as pd\n",
        "import numpy as np\n",
        "\n",
        "#!pip install ydata_profiling ipywidgets\n",
        "#!pip install --upgrade Pillow\n",
        "\n",
        "from ydata_profiling import ProfileReport\n",
        "\n",
        "colors = [\"#40BEAD\", \"#248CC4\", \"#308E81\", \"#576AC9\"]"
      ]
    },
    {
      "attachments": {},
      "cell_type": "markdown",
      "metadata": {
        "id": "JeHcsmAvq7BY"
      },
      "source": [
        "## Chargement des données de rendement d'avoine"
      ]
    },
    {
      "cell_type": "code",
      "execution_count": null,
      "metadata": {
        "colab": {
          "base_uri": "https://localhost:8080/"
        },
        "id": "d39838Cdpg9K",
        "outputId": "8ac1403a-eaec-45ac-f84c-08d8b1f0e93f"
      },
      "outputs": [],
      "source": [
        "# Nous allons chercher le fichier directement via l'URL\n",
        "filepath = \"https://data.ontario.ca/dataset/e30dc044-5f75-4f33-b63e-6326f8769bea/resource/5fe1b9cc-5c3b-4f8f-99fc-2cacf41fcf9d/download/ctyoats_f.xlsx\"\n",
        "\n",
        "# Lecture du fichier Excel spécifié par la variable filepath\n",
        "f = pd.ExcelFile(filepath)\n",
        "sheet_names = f.sheet_names\n",
        "\n",
        "# Nous imprimons les noms des onglets dans le fichier\n",
        "print(f'{len(sheet_names)} onglets dans le fichier: {os.path.basename(filepath)}')\n",
        "print(\", \".join(sheet_names))"
      ]
    },
    {
      "attachments": {},
      "cell_type": "markdown",
      "metadata": {},
      "source": [
        "Nous pouvons conserver tous les onglets dans une structure de données.  Nous pouvons imprimer quelques informations sur les données."
      ]
    },
    {
      "cell_type": "code",
      "execution_count": null,
      "metadata": {
        "colab": {
          "base_uri": "https://localhost:8080/"
        },
        "id": "W6qsWrpPqVQU",
        "outputId": "3505a81e-a5e3-471e-ff4f-a1e3b37bc2d3"
      },
      "outputs": [],
      "source": [
        "# Lecture de tous les onglets du fichier Excel\n",
        "# Nous les conservons dans un dictionnaire de dataframes pandas\n",
        "\n",
        "dfs = {}\n",
        "\n",
        "for sheet in sheet_names:  \n",
        "    df = f.parse(sheet, skiprows=1)\n",
        "    df.loc[:, 'Onglet'] = sheet \n",
        "    dfs[sheet] = df\n",
        "    print(F'{sheet} : {df.shape[0]} rangées, {df.shape[1]} colonnes,  {list(df.columns)}')\n",
        "   "
      ]
    },
    {
      "attachments": {},
      "cell_type": "markdown",
      "metadata": {},
      "source": [
        "Regardons les trois premières lignes du premier onglet."
      ]
    },
    {
      "cell_type": "code",
      "execution_count": null,
      "metadata": {},
      "outputs": [],
      "source": [
        "# Inspection de quelques onglets dans le fichier\n",
        "i = 0\n",
        "dfs[sheet_names[i]].head(3)"
      ]
    },
    {
      "attachments": {},
      "cell_type": "markdown",
      "metadata": {},
      "source": [
        "### À votre tour \n",
        "\n",
        "<img style='float:right;'  src='https://drive.google.com/uc?export=view&id=1HMGzZe3dGBk9Zgpk0tKtbQarFu3WMrBK' height='100px'>  </a>\n",
        "\n",
        "Inspecter différents onglets, le début et la fin.  Noter vos observations.\n",
        "\n"
      ]
    },
    {
      "cell_type": "code",
      "execution_count": null,
      "metadata": {
        "colab": {
          "base_uri": "https://localhost:8080/",
          "height": 244
        },
        "id": "SNgEdDEWrRiF",
        "outputId": "e44a88db-2a0c-4f3a-d951-442532e05188"
      },
      "outputs": [],
      "source": [
        "# Inspecter différents onglets, le début et la fin\n",
        "\n",
        "\n",
        "\n",
        "\n"
      ]
    },
    {
      "attachments": {},
      "cell_type": "markdown",
      "metadata": {},
      "source": [
        "### Observations    \n",
        "<img style='float:right;' src='data:image/png;base64,iVBORw0KGgoAAAANSUhEUgAAAH4AAAB+CAMAAADV/VW6AAAA+VBMVEX///+AkZtSXGgxOETs9///3NIuNUGDlJ6doqhKVWIqMD3obVUtM0BPWWUnLzxVX2shKjh6ipQbJTQ8RFD8jXA2PUn/n5z/5Nl1hI5DTFdhbXhqeIL0//+YqsZHQkzW19n09PUAFCjq6uslNkNmanHExsiqrLBwc3qMj5Tg4eISHi/wcFZMUVqChYtaX2e3ubzAX0+RU01/S0hLPUVZQUecVUzPa1evWU08OUPqgGaUZ2zwk47VcmTVeWRWS1TOhYVoTE2dYlisc3X+rqkQMECJWVP/ycKVhoZmU1v/u7S4npt5b3LUubPmycGwhITZaFMAABlmdIiCkqpGoaYyAAALKklEQVRoge2ba3fbNhKGLcIGRQQEQSC0ScqOKFGyJFoXO06aJrtp09ZtWjve2P7/P2ZnQFkSdYtcie7uOZnTL7nUDwYYzLwzYPb2vtt3+24bW/MfpXdJ9R+kNwMhn5+aTPE8eHb6KOuPFzCQYvDs+IESrV6yl9Q7kvDh4LSePCu+LqmQw2GUCUIIlSrrd591ASMGWE4pZ0IIRilVYvSc/AH4zZj24jAMa55mlDRayXPBExfOPIj9ip1bJewzIh/DsXSLBKGeb1cmZtseJbL1PPSBIrQ2A0d+3Cck6z4Hvd0gfI5esS3PgfNvl09P+lTEc/SK71peRHmUlI4fZVTPwSt2zbUsKyDqtHR8S7D5ra9ULDSH0NILQDOgfJ6eO295AWGdko+/ragzH3e+cd5zA0J4Iyj1AE4VXQg8z9AjCpmYEqp0iTvQlfN3vhK76LoGcuBEASU8K08BtQQNCztf8ZAeQe0jAVw/K4IjaJR2AENWwNshsD0HfCYkModgWZrS0hLALN62Q8/13IjgqYPzket5+Q2Q9ZLwHdj8caHza57lOhrJ6eWbFM4eVuC4Ltx/2isJD5U+8uJarRa7kQ4Cw04vL87PLy7T1IQ+mOyURZeocxhaTkrT9M3bc2MXb/B3GGUqKMf5Zl+N/RsbTT9dGPQPaOfvfiSkM2xVk1LodQ46Qzs6eKRfXb77AcjvX47t/Y9Ud8uKujY67kBkY3kJcN8//Ovf715/fDmxj/AXJC8n6TUlJ8Q1dxvCHVz/6efDw8OfrtJPv3x8/97swMcr+H3OS/Efo84kd5NkUvIrwH876EtK06s0pZ9+efny95RwCA5RRturOfjumaxu9h3ofxwdHXzmDSlA6tMrAnTh+ZD0SAn8ISfa5Bhw8E+E/3Wd3hwcHB18+Xwz7GtJYUe4B9kIyr7e/f6PMnPVlHQF/Qn3/bOijduDA1wB2Jc+1DrXhioAK2Rk913PQCrJIrhYmor/APOVUDcHEzu6EbkIBMkLR1GC6u6N2iadjRQlALxmn4+m9C8ZYSE4X+NEhJqRElXHUIibo4Ojoyn94DagDGWQrSmPoeuBBNUYlpSB6uDc9QwbnP8sqUY6OE+MDoANEKpTzgKqGZEF/i2huPUVG5oNzzYqKA7gGESrlCPoyAIfnY+Q6kNu8h8FsMcpYY1hGeUPemx1Mz38jPDQ9HqUWxMlavsxZ6C9yxj/tBRUl+v8zoPz3Kh/H1JSQQqaI5BBCSHQhfst9c2X29uD21fUNL12zGg034PAEVBZgvSFLEyoyGTQR21rYBEVCw2gXYMWINslv92FmtLURvcIzjHCTOsT5rdunu9HbJfSv9vIhpADOdJ1dxhhg4Phbns8v3ULC3AZyXZUBZKOAk3T3usxcpm31JCEXXPXNeTbZXjgc7ob7d8cKpJSykZVmb5+Q0UdtX/e8ocQC0vpeTrSO6D3IknSt29Skilydf46hW2AIGAGEXPursBXQAXsYPvrGadX52dfL0FfXX06u0jVCFt+k/HQw8XBxyT+Gdu++YAG9/Lr2YsXZ+evL87Pzoz3A4k1DrjjCFzhPuXDrfFw4J+ADnywF2eXePZQYv1KXLNDboreCu9DxrefOzbh5M8NH+0r9JVwA2gA9Z2FMaeOvXLzIyp3MHXoQtx/HfNx7zv5tfOg8XU54ZG/nA8pAXRosjU+iQQh52dm719fYSPflRBwdi20sfcyUmcRXoG8RyPH3979ZiCgt7t49/Y1NNSYSvucBB72/BI1OPwX+4UVwC9iHDlFnuUotXUH0HMzaGzACDMzpKHiFIKuFkK1q1HTBzi1cDJs92tugLUpgv4oZmIHY++qFgqMD42Qag76QoG0hrJnQXXBBVBGNE5aPOwGmRm9QGvqhpB7nj52bi5sWNI+rZ62pyKqXuUKJwsxCm182zBRgKUwnwZQDW2xCxESM95/ErvXadw17r7dtVeBbzI/MKKA0OkUggYRwvP3B00aT0m9owzaR5Qrqv+NXRspKHd5rPmx5ThRpLUZREBP7rpebZx6xVNyX1tQEQxbLlWUqUGy9u8OpqNu26/FHhy25aIi8LwYInH8J1B5Ni68PSisrd7+/n69qkHZ9tdK5pGa0RrQ6PphrRY75kim9xCqoti08iSgolTvGPD7x/vdBmVi3cJ7DTInM3HWDUqo8PrgQ4pONqNrkM16bz+3414qaGNd1miQYL7g2bEbjHXgNPerze6emeEFx/sTfl+sXfncuDd31nN4wX3YfblR29HLCASuau7P8Nf+r1XJFkb9dmwFpPD6EuKObmBVRe9daBCOp/y6XBe37bHiLOBrLuTBwvsHxH6yAb4jxMODoHqK3z+uKrY6aTclFP6F3XddSoLZBTlUbXL1BoA/gUCpzvIlFatvH0T5otjyvKDQ90HlV5skPvD0/uRBENGe2X5brnmr64glUtPzdEGBgubcqOOrZzQ6ObEYD+rT6G/LNVnjVC1pcmLPjFsK+E1UF76WPpycgIif4dcld1cvWC7Rmug9LXjP5UZTr9OM6JOTB8Lp3enx8cT71bGXRHm/MY8nfwu/pznzgA86TQ3bx7CC4+MaW/dO22LTHm8cbaHrQdmZDb0NNx9Pn0D0wfkLwoTTbdfbLUnWLb2qJqdc81DkYdZ16Fza2yz0zI8jAvn3oJi4zLIM9CpRK2Ov3Z9mGM+NPViK71maFAISmt0Nkz7c/YwI68QsQBoNxTQjMlpaeNqtDP7Go6OWpxkkWxAeNJ86TfCaZhvPuroNEG24AScP9zisdU7uQdeqUR3E3qhd7zUTsF69XW1lGcdx92PsWRY+bIYupPzibfQD+oTPvEZSwE/1Hh4e7qEAMbiJDwGlQuaWq0oOvxQoZ0HkyXHe8/BzAlDXmhTLMAT+xnoDrddSAgAMxDMHvQ78E1TOSkl8t0NNaV6uqXnE1ORxtBS7uO0E8jArDDxsi68pG8usPQQ/hZBq2BcYivf4kc719fWHD49PWoGOHHzl8aLH4mrDtlvmj+eKsI3TsCfhoZaNup0OaO1kCFcBOgf1+Qjst8NXFN9XjOVfEETk8ebZgEf351774dYTkv3tTqsLDRbhLTNIPTR4a9acyWgLP6jAfBfNfeCDHxlsfPEWbST4eJj+1zI8nSoOVNp07hMf0Pn4xLtFo1/XNMcfLsG7kHcmJPMtz1wRAuchPLcZ8pwqiY8ov63AT8U2xkMx9CDhEuIQ+rQ+r2i9O0Ju/zg8/BZ+7D6ZKYI+hKIDFyLbAo/TrVc/L8dbs96j+95sxse4C7AINLZ5YWhCN5+++vPDr7/CxZ7Hz1Q3c/ehy+LjvAMSH/8+rCjb6oWlHihI/2mKD8Zr8I/uj6ugHQozYYHksOW3XUmVNxqZUov4gGq/6D5cvrzvx5cOjQvq0w3lzroV9NqjkV44+2KBsd38a6YAl4LJeRyfOxivovWnSde0844zh4/zJUEmDgOKnxXl+B3MN9EwiUS54SBDD2A/ingEYp5F+mSnCN/NZ6X4g03JzZ9V+tjoLOKhzUEhMj2ngAY7eeCv3kEAouxQWeMu67f3kmV4M2KZDdKAbD9dNJbU26dVsNNR3fzAhBTx4zoMjUYwE59w8cv5sGcO7z96rCOrgG+U87QM+Nl7Hz/ix3Jk6n05b/sFvMk6yyza2avaPF5O8bbvLadbW2fdlXg1+YjXDlfREV/O55RJZkoOztHjVXDMQ9sn/eV4HC36OFJ1V5w72i5qzip8YLnuOrbBl/QPSpoNEqwlG3PKwvcaRG+EL+dryvr/Cb6czW/ficD5pkUyKwdf73a71W9bt/us/4znu3237/a/af8F5DMSVdFNOPMAAAAASUVORK5CYII='>\n",
        "\n",
        "* L'année peut être récupérée dans les noms d'onglet\n",
        "\n",
        "* Chaque onglet contient les données d'une année donnée\n",
        "\n",
        "* Les onglets ne comportent pas tous le même nombre de rangées et deux onglets contiennent des erreurs dans leur nom.  \n",
        "\n",
        "* Tous les onglets ont le même nombre de colonnes.\n",
        "\n",
        "* Le header n'est pas toujours dans la première rangée, il est parfois dans la seconde.\n",
        "* La colonne contenant les régions n'est pas nommée.\n",
        "\n",
        "* Incohérence de langue (FR/EN) (oats).\n",
        "\n",
        "* Incohérence dans le nombre de lignes entre les onglets.\n",
        "\n",
        "* Incohérence dans le nom des régions entre les onglets.\n",
        "\n",
        "* Incohérence dans le nom des colonnes entre les onglets.\n",
        "\n",
        "* Incohérence pour indiquer l'absence de données ou l'absence d'ensemencement (on ne sait pas ce que signifie '-', 'x', 0). \n",
        "    * Logiquement, un rendement de 0 semble improbable si les valeurs d'acres ensemencées et d'acres récoltées ne sont pas 0. Il faudrait approfondir ceci.\n",
        "\n",
        "* Incohérence dans les valeurs dernières lignes des onglets\n",
        "\n",
        "* Le nom des colonnes a changé au fil du temps.  Au moins, la signification et l'ordre sont restés les mêmes.\n",
        "\n"
      ]
    },
    {
      "attachments": {},
      "cell_type": "markdown",
      "metadata": {
        "id": "ETD_MvuZyerD"
      },
      "source": [
        "## Plan de nettoyage\n",
        "\n",
        "<img style='float:right;' src='data:image/png;base64,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'>\n",
        "\n",
        "La première étape est de gérer les erreurs évidentes pour produire un jeu de données que nous pourrons explorer plus en détails. Pour l'instant, nous ne pouvons procéder à l'EDA avec le jeu de données que nous avons. \n",
        "Encore moins intégrer un autre type de données, comme les données météo.\n",
        "Le processus de nettoyage est un processus itératif.  Nous ne pouvons normalement pas tout corriger du premier coup."
      ]
    },
    {
      "attachments": {},
      "cell_type": "markdown",
      "metadata": {
        "id": "Eituqb1MrsiK"
      },
      "source": [
        "\n",
        "Quels sont les étapes ?\n",
        "\n",
        "1. Gérer la différence entre le nombre de rangées pour pouvoir concaténer les onglets en une seule structure de données.\n",
        "<em>\n",
        "    * Nous savons que la dernière ligne de données contient le total pour l'Ontario\n",
        "    * Nous savons que les mots 'Rendement' et 'Production' se trouvent dans la rangée contenant les noms de colonnes (header)\n",
        "</em><br><br>\n",
        "\n",
        "\n",
        "2. Standardiser le vocabulaire\n",
        "<em>\n",
        "    * Nous ne voulons pas garder les mots clés 'Division', 'County',... dans le nom des régions.\n",
        "    * Nous voulons harmoniser les noms de colonnes\n",
        "    * Nous voulons standardiser les valeurs nulles.\n",
        "</em><br><br>\n",
        "\n",
        "\n",
        "3.  Extraire les années des noms d'onglets et les ajouter aux données\n",
        "<em>\n",
        "    * Malgré les erreurs dans le nom des onglets, ce qui nous intéresse est l'année que nous voulons conserver.\n",
        "</em><br><br>\n",
        "\n",
        "\n",
        "4. Nous voulons combiner les données des différents onglets en une seule matrice.  Ce n'est pas très pratique de travailler avec 19 matrices de données.  \n",
        "\n"
      ]
    },
    {
      "attachments": {},
      "cell_type": "markdown",
      "metadata": {},
      "source": [
        "<img style='float:right;'  src='https://drive.google.com/uc?export=view&id=1HMGzZe3dGBk9Zgpk0tKtbQarFu3WMrBK' height='100px'>  </a>"
      ]
    },
    {
      "cell_type": "code",
      "execution_count": null,
      "metadata": {
        "colab": {
          "base_uri": "https://localhost:8080/"
        },
        "id": "kKQ-0Sk0vraK",
        "outputId": "1e354949-ee28-4b8f-80bd-1d688aca235d"
      },
      "outputs": [],
      "source": [
        "data = pd.DataFrame()\n",
        "new_cols = ['Region', 'Acres ensemencée', 'Acres récoltée', \"Rendement (boisseaux à l'acre)\",\n",
        "            \"Production ('000 boisseaux)\", \"Production ('000 tonnes métriques)\",  \"Onglet\", \"Annee\"]\n",
        "\n",
        "\n",
        "for sheet, df in dfs.items():\n",
        "  \n",
        "    df['Onglet'] = sheet\n",
        "\n",
        "    # Nous vérifions si le mot-clé \"Production\" se trouve dans n'importe quelle colonne\n",
        "    # S'il est trouvé, les noms de colonnes sont corrects, sinon, nous devons les corriger\n",
        "    word_in_column = df.columns.str.contains(\"Production\", regex=True).any()\n",
        "    if word_in_column == False:\n",
        "      header = df.iloc[0,:].values\n",
        "      df = df.iloc[1:,:]\n",
        "      df.columns = header\n",
        "      \n",
        "    # ... (à votre tour) - qu'est-ce qu'on fait ici \n",
        "    year = int(re.search(r'\\d+', sheet).group())\n",
        "    if year == 201:\n",
        "      year = 2010\n",
        "    df['Annee'] = year\n",
        "    \n",
        "    df.columns = new_cols\n",
        "    \n",
        "    # ... (à votre tour) - qu'est-ce qu'on fait ici \n",
        "    last_row_index = df.Region.tolist().index('Ontario')\n",
        "    df = df.iloc[:last_row_index, :]\n",
        "\n",
        "    data = pd.concat([data, df], axis=0, ignore_index=True)\n",
        "\n",
        "data = data.loc[~data.Region.str.contains('Ontario'),:]\n",
        "data = data.loc[~data.Region.str.contains('Région'),:]\n",
        "data.replace('-', 0, inplace=True)\n",
        "data.replace('x', 0, inplace=True)\n",
        "\n",
        "# Optionnel. Nous pouvons renommer les colonnes pour les rendre plus lisibles avec rename\n",
        "# Nous aurions pu faire cela dans la boucle plus haut en utilisant ces noms dans new_cols\n",
        "new_column_names = { \"Acres ensemencée\": \"Ensemencee\",\n",
        "                     \"Acres récoltée\": \"Recoltee\",\n",
        "                     \"Rendement (boisseaux à l'acre)\": \"Rendement\",\n",
        "                     \"Production ('000 boisseaux)\": \"Production_boiseaux\",\n",
        "                     \"Production ('000 tonnes métriques)\": \"Production_tonnes\",\n",
        "                     \"Year\": \"Annee\",\n",
        "                     \"Sheet\": \"Onglet\"}\n",
        "data.rename(columns=new_column_names, inplace=True)"
      ]
    },
    {
      "attachments": {},
      "cell_type": "markdown",
      "metadata": {},
      "source": [
        "Regardons de quoi a l'air notre nouvelle matrice de données.  Est-ce que les dimensions semblent bien?"
      ]
    },
    {
      "cell_type": "code",
      "execution_count": null,
      "metadata": {},
      "outputs": [],
      "source": [
        "print('Dimension du dataframe: ', data.shape)\n",
        "data.head(2)"
      ]
    },
    {
      "cell_type": "code",
      "execution_count": null,
      "metadata": {
        "colab": {
          "base_uri": "https://localhost:8080/",
          "height": 380
        },
        "id": "bBgI0C_u1wXd",
        "outputId": "6356d34e-048c-4be6-d808-3a79dccff430"
      },
      "outputs": [],
      "source": [
        "data.tail(2)"
      ]
    },
    {
      "attachments": {},
      "cell_type": "markdown",
      "metadata": {
        "id": "MkveQjIW2vfe"
      },
      "source": [
        " #### Uniformisation des noms de régions\n",
        "  * Retirer les totaux par régions (\"Région du Nord de l'Ontario\")\n",
        "  * Remplacer les mots : County, Regional Municipality, District, Counties, Division, District Municipality, United Counties.\n",
        "  * Que faire avec le Grand ? (Grand Sudbury -> est la ville, Sudbury est le district)"
      ]
    },
    {
      "cell_type": "code",
      "execution_count": null,
      "metadata": {
        "colab": {
          "base_uri": "https://localhost:8080/",
          "height": 723
        },
        "id": "vq5XcLIr2Dx-",
        "outputId": "702676ef-50f4-4a7b-afd1-83bf08f092fd"
      },
      "outputs": [],
      "source": [
        "data.loc[data.Region.str.contains('Brant'),:]"
      ]
    },
    {
      "cell_type": "code",
      "execution_count": null,
      "metadata": {
        "colab": {
          "base_uri": "https://localhost:8080/"
        },
        "id": "D0UwY8Gd2iqK",
        "outputId": "b83a2f91-f3a3-4709-84cc-b4c2817aae3a"
      },
      "outputs": [],
      "source": [
        "regions = data.Region.unique()\n",
        "words = []\n",
        "for region in regions:\n",
        "  found = [r for r in regions if region in r]\n",
        "  if len(found) > 1:\n",
        "    print(region, found)\n",
        "    words += [r.replace(region, '') for r in found if r!=region]\n",
        "words = list(set(words))"
      ]
    },
    {
      "cell_type": "code",
      "execution_count": null,
      "metadata": {
        "id": "b1XPPLPS2ixe"
      },
      "outputs": [],
      "source": [
        "words.remove('Grand ')\n",
        "words = sorted(list(set(words)))\n",
        "words.append(' Municipality')\n",
        "\n",
        "def clean_region(region):\n",
        "  for word in words:\n",
        "      region = region.replace(word, '')\n",
        "  return region\n",
        "\n",
        "data.loc[data.Region=='Sudbury Regional Municipality', 'Region'] = 'Grand Sudbury'\n",
        "data.loc[:, 'Region'] = data.Region.apply(lambda x: clean_region(x))\n"
      ]
    },
    {
      "attachments": {},
      "cell_type": "markdown",
      "metadata": {
        "id": "S1bJJCqpxq1n"
      },
      "source": [
        "## Exploration des données\n",
        "\n",
        "Maintenant que nous avons une matrice de données manipulable, nous allons explorer les données pour mieux les comprendre et corriger les erreurs restantes.\n",
        "\n",
        "Comment ? En générant des graphiques et des statistiques"
      ]
    },
    {
      "cell_type": "code",
      "execution_count": null,
      "metadata": {
        "colab": {
          "base_uri": "https://localhost:8080/",
          "height": 647
        },
        "id": "BdHxMEKV2i0m",
        "outputId": "d386ac59-92d7-48b7-f794-b31806fda76a"
      },
      "outputs": [],
      "source": [
        "format_dict = {\"Annee\":\"{:%Y}\"} #Simplified format dictionary with values that do make sense for our data\n",
        "data.loc[data.Region.str.contains('Brant'),:].style.background_gradient(cmap=\"BuGn\")"
      ]
    },
    {
      "attachments": {},
      "cell_type": "markdown",
      "metadata": {
        "id": "6fmcEcy33iVL"
      },
      "source": [
        "### Visualisation\n",
        "\n",
        "La meilleure façon de comprendre un dataset est en l'explorant à l'aide de graphique.  Il est important d'identifier d'abord quelles informations et graphiques sont pertinentes.  La visualisation doit avoir une intention."
      ]
    },
    {
      "attachments": {},
      "cell_type": "markdown",
      "metadata": {},
      "source": [
        "#### Heatmap\n",
        "\n",
        "Ce graphique met en relation deux variables catégoritielles, l'année et la région et une variable continue, le rendement."
      ]
    },
    {
      "cell_type": "code",
      "execution_count": null,
      "metadata": {},
      "outputs": [],
      "source": [
        "\n",
        "mx = data.pivot_table(index=\"Annee\", columns=\"Region\", values=\"Rendement\").fillna(0)\n",
        "fig = plt.figure(figsize=(12, 5))\n",
        "sns.heatmap(mx, cmap=\"GnBu\",  linewidths=.5)\n",
        "plt.show()"
      ]
    },
    {
      "attachments": {},
      "cell_type": "markdown",
      "metadata": {},
      "source": [
        "#### Clustermap\n",
        "\n",
        "Comme le heatmap, le graphique met en relation deux variables catégoritielles, l'année et la région et une variable continue, le rendement.\n",
        "De plus, il présente un clustering hiérarchique des années et des régions basé sur le rendement.  Les années ayant des profils de rendement similaires parmi les régions ont positionnés plus près et les régions ayant des profils de rendement similaires parmi les années sont positionnés plus près.\n",
        "\n",
        "Nous observons trois groupes de régions principaux, ce qui ressort est le motif de valeurs de rendement nulles.   Pour les années, il y a 2 groupes, guidés par le même critère.  Qu'est-il arrivé entre 2016 et 2019 ?"
      ]
    },
    {
      "cell_type": "code",
      "execution_count": null,
      "metadata": {
        "colab": {
          "base_uri": "https://localhost:8080/",
          "height": 428,
          "referenced_widgets": [
            "2c7fce91632047e99a5acbb44f342543",
            "f0e63865d701445e9d9220e49dea9d9d",
            "44fad488eeb14d81808b10617d23b823",
            "eec0824a00a84f93be3b4b1f03d132b4",
            "a4eaaf8d35bf4c73a2889acfdfc8ff73",
            "63ff63060dcb4988b0001f9c3ba8e14f",
            "fa504392c8314a87b84a3197c2d7c9ee",
            "89f234538c4b4edebfd5603ce15973bc",
            "592a4d24aefd4302b7c583695210d660",
            "dd7fa7534c6b45339576aedabdcabebc",
            "0b20c35bbe0c46ed8c64d7500734b20d",
            "05f95916eee849b8b198c222eb76cdea",
            "16302b3a77214c5db017850c331645de",
            "3d8f5550fcb04168a5f125d8e42c3c60",
            "a702d46271034fe48b1547e15323abcb",
            "7b248979d792470185137a9f2b9c48c3",
            "cf5a0966d43447c0bf5796d7a3bcc2f4",
            "04bb82951d5f47f4a346b630303a9bf7",
            "dc6396f455b444b286708c892706c6b9",
            "e909aaafb9a745fdae33a32e954cdbd6",
            "250ec2fc0df844679072a9d7462e065d",
            "d56c340f31344ec389af9c511188603f"
          ]
        },
        "id": "gwRrZOS2xx27",
        "outputId": "7084db09-b202-42f1-9c29-4774c25c77f0"
      },
      "outputs": [],
      "source": [
        "\n",
        "mx = data.pivot_table(index=\"Annee\", columns=\"Region\", values=\"Rendement\").fillna(0)\n",
        "fig = plt.figure(figsize=(10, 4))\n",
        "sns.clustermap(mx, cmap=\"GnBu\",  linewidths=.5)\n",
        "plt.show()\n",
        "    "
      ]
    },
    {
      "attachments": {},
      "cell_type": "markdown",
      "metadata": {},
      "source": [
        "#### Pairplot\n",
        "\n",
        "Ce graphique met en relation deux variables.  Il permet de voir qualitativement si des variables sont corrélées en entre elles en plus de présenter la distribution de chaque variable.  Nous pouvons voir que :\n",
        "\n",
        "* la distribution du rendement est bimodale.  \n",
        "    * il suit une distribution normale \n",
        "    * il y une grande proportion de valeurs égales à 0\n",
        "\n",
        "* le nombre d'acres récoltés est corrélé au nombre d'acres ensemencés.\n",
        "* la production de boiseaux est proportionnelle au nombre d'acres ensemencées\n",
        "* le rendement n'est corrélé avec aucune des autres variables\n",
        "* il y a un grand nombre d'entrées à 0"
      ]
    },
    {
      "cell_type": "code",
      "execution_count": null,
      "metadata": {
        "colab": {
          "base_uri": "https://localhost:8080/",
          "height": 1000
        },
        "id": "6wN7AMRu4A_a",
        "outputId": "17f9acf9-416d-4744-a4ba-fb3eb53f871c"
      },
      "outputs": [],
      "source": [
        "fig = plt.figure(figsize=(10, 4))\n",
        "sns.pairplot(data)\n",
        "plt.show()"
      ]
    },
    {
      "attachments": {},
      "cell_type": "markdown",
      "metadata": {},
      "source": [
        "#### Graphes de distribution\n",
        "\n",
        "L'exploration des différentes variables peut révéler des interrogations au niveau de la logique.  Ici, est-ce normal d'avoir des cas où l'on récolte plus que l'on ensemence? \n",
        "\n",
        "L'histogramme du pourcentage d'acres récoltées versus ensemencées nous montre très rapidement les cas d'exception à investiguer."
      ]
    },
    {
      "cell_type": "code",
      "execution_count": null,
      "metadata": {
        "colab": {
          "base_uri": "https://localhost:8080/",
          "height": 472
        },
        "id": "aZCJF6ay2WZK",
        "outputId": "32d8330c-e5af-4028-c2a5-42bd4eeb8799"
      },
      "outputs": [],
      "source": [
        "fig = plt.figure(figsize=(5, 3))\n",
        "plt.hist(data[\"Recoltee\"]/data[\"Ensemencee\"]*100, bins=40, color='#2A8CC4'\n",
        "         , edgecolor='black', linewidth=0.5)\n",
        "\n",
        "plt.axvline(x=100, c='#40BEAD', linestyle='--')\n",
        "plt.title(\"Pourcentage d'acres Recoltées/Ensemencées\")\n",
        "plt.xlabel(\"Pourcentage (Récoltées/Ensemencées)\")\n",
        "plt.show()"
      ]
    },
    {
      "cell_type": "code",
      "execution_count": null,
      "metadata": {
        "colab": {
          "base_uri": "https://localhost:8080/",
          "height": 596
        },
        "id": "NanTxPAU5j4B",
        "outputId": "f487c1bb-37ae-468a-aeac-54e91cd7b27e"
      },
      "outputs": [],
      "source": [
        "data.loc[(data[\"Recoltee\"]==0)&(data[\"Ensemencee\"]>0),:]"
      ]
    },
    {
      "cell_type": "code",
      "execution_count": null,
      "metadata": {
        "colab": {
          "base_uri": "https://localhost:8080/",
          "height": 170
        },
        "id": "uO_tTJb235TO",
        "outputId": "5d31397a-c166-4c69-b7bb-b50d26ee9a7a"
      },
      "outputs": [],
      "source": [
        "data.loc[data[\"Recoltee\"]>data[\"Ensemencee\"],:]"
      ]
    },
    {
      "cell_type": "code",
      "execution_count": null,
      "metadata": {},
      "outputs": [],
      "source": [
        "# Rendement moyen par region\n",
        "fig, ax = plt.subplots(figsize=(8, 4))\n",
        "data.loc[data.Rendement>0, :].groupby(\"Region\").agg({\"Rendement\": \"mean\"}).sort_values(by=\"Rendement\", ascending=False).plot(kind='bar', ax=ax, color=colors[0])\n",
        "plt.ylabel('Rendement moyen (boiseaux/acre)')\n",
        "plt.show()"
      ]
    },
    {
      "cell_type": "code",
      "execution_count": null,
      "metadata": {},
      "outputs": [],
      "source": [
        "# Nombre d'annees pour lesquelles les rendements sont supérieurs à 0\n",
        "fig, ax = plt.subplots(figsize=(8, 4))\n",
        "data.loc[data.Rendement>0, :].groupby(\"Region\").agg({\"Rendement\": \"count\"}).sort_values(by=\"Rendement\", ascending=False).plot(kind='bar', ax=ax, color=colors[0])\n",
        "plt.ylabel(\"Nombre d\\'années\")\n",
        "plt.title(\"Nombre d\\'années pour lesquelles les rendements sont supérieurs à 0\")\n",
        "plt.show()"
      ]
    },
    {
      "attachments": {},
      "cell_type": "markdown",
      "metadata": {},
      "source": [
        "#### Boxplot \n",
        "\n",
        "Le boxplot nous permet de facilement mettre en relation des distributions.  Nous pouvons donc avoir un aperçu du rendement par région et par année.\n",
        "Le boxplot présente la valeur médiane et les valeurs quantiles ansi que les valeurs aberrantes de la distribution."
      ]
    },
    {
      "attachments": {},
      "cell_type": "markdown",
      "metadata": {
        "id": "j_kkb32F4jCI"
      },
      "source": [
        "Comme nous nous intéressons au rendement, il est intéressant de le définir avec son équation : \n",
        "\n",
        "$ Rendement = \\frac {Production}{Acres_{récoltés}} *1000$\n",
        "\n",
        "où le $Rendement$ est en boiseaux à l'acre."
      ]
    },
    {
      "cell_type": "code",
      "execution_count": null,
      "metadata": {
        "colab": {
          "base_uri": "https://localhost:8080/",
          "height": 710
        },
        "id": "X8zwGN4TMhXg",
        "outputId": "be7ea0d5-e616-464e-ba12-094574165106"
      },
      "outputs": [],
      "source": [
        "sns.boxplot(data, y='Rendement', x='Annee', color=colors[1])\n",
        "plt.xticks(rotation=90)\n",
        "plt.suptitle(\"Rendement d'avoine par région\")\n",
        "plt.title(f\"Les données proviennent de {len(data.Region.unique())} régions\", fontsize=10)\n",
        "plt.show()"
      ]
    },
    {
      "cell_type": "code",
      "execution_count": null,
      "metadata": {
        "id": "OeMfu56jMl1f"
      },
      "outputs": [],
      "source": [
        "fig = plt.figure(figsize=(10, 4))\n",
        "sns.boxplot(data,  y='Rendement', x='Region', color=colors[1])\n",
        "plt.xticks(rotation=90)\n",
        "plt.suptitle(\"Rendement d'avoine par région\")\n",
        "plt.title(\"Les données représentées sont de 2004-2022\", fontsize=10)\n",
        "plt.show()"
      ]
    },
    {
      "attachments": {},
      "cell_type": "markdown",
      "metadata": {},
      "source": [
        "Nous pouvons revisiter le heatmap et inclure la valeur de rendement comme annotation."
      ]
    },
    {
      "cell_type": "code",
      "execution_count": null,
      "metadata": {
        "id": "8A22dcLeM0Ze"
      },
      "outputs": [],
      "source": [
        "fig, ax = plt.subplots(figsize=(20,5))\n",
        "mx = data.pivot(index=\"Annee\", columns=\"Region\", values=\"Rendement\")\n",
        "sns.heatmap(mx, annot=True, ax=ax, fmt=\".0f\", cmap='GnBu', linewidths=.5)\n",
        "plt.title('Rendement par région et par année')\n",
        "plt.show()"
      ]
    },
    {
      "cell_type": "code",
      "execution_count": null,
      "metadata": {},
      "outputs": [],
      "source": [
        "fig, ax = plt.subplots(figsize=(5,3))\n",
        "for i,region in enumerate(['Grey', 'Bruce', 'Waterloo']):\n",
        "    data.loc[data.Region==region,:].plot(x='Annee', y='Rendement', label=region, marker='o', ax=ax, color=colors[i])\n",
        "\n",
        "plt.xticks(data.Annee.unique(), rotation=90)\n",
        "plt.ylabel('Rendement (boiseaux/acre)')\n",
        "plt.title(f'Rendement - avoine')\n",
        "plt.ylim(0,data.Rendement.max()+5)\n",
        "plt.show()"
      ]
    },
    {
      "cell_type": "code",
      "execution_count": null,
      "metadata": {},
      "outputs": [],
      "source": [
        "report = ProfileReport(data, title=\"Profiling Report\")\n",
        "report"
      ]
    },
    {
      "attachments": {},
      "cell_type": "markdown",
      "metadata": {
        "id": "qRkiOPX6yqtU"
      },
      "source": [
        "## Filtre et sauvegarde du fichier de données nettoyées"
      ]
    },
    {
      "cell_type": "code",
      "execution_count": null,
      "metadata": {
        "id": "72wH1mkpNBZz"
      },
      "outputs": [],
      "source": [
        "# Nous voulons conserver les régions pour lesquelles nous avons au moins 3 années de données\n",
        "# Encore une fois, que signifie une valeur de 0, ce n'est pas clair\n",
        "n = 3\n",
        "mx = data.pivot_table(index=\"Annee\", columns=\"Region\", values=\"Rendement\")\n",
        "region_to_keep = mx.columns[mx.apply(lambda x:x==0).sum() < n]\n",
        "print(f'Nous conservons {len(region_to_keep)} sur un total de {mx.shape[1]} régions')\n",
        "\n",
        "data_filtered =  data.loc[data.Region.isin(region_to_keep),:]\n",
        "print(f\"Nous avions {data.shape[0]} rangées, nous en gardons  {data_filtered.shape[0]}\")"
      ]
    },
    {
      "cell_type": "code",
      "execution_count": null,
      "metadata": {
        "id": "lA1MVpzK6DaY"
      },
      "outputs": [],
      "source": [
        "data.to_csv('avoine_dataset.csv')"
      ]
    },
    {
      "attachments": {},
      "cell_type": "markdown",
      "metadata": {},
      "source": [
        "Regardons le nouvel heatmap de nos données filtrées"
      ]
    },
    {
      "cell_type": "code",
      "execution_count": null,
      "metadata": {
        "id": "7TqFxmeWE879"
      },
      "outputs": [],
      "source": [
        "\n",
        "fig, ax = plt.subplots(figsize=(20,5))\n",
        "mx = data_filtered.pivot(index=\"Annee\", columns=\"Region\", values=\"Rendement\")\n",
        "sns.heatmap(mx, annot=True, ax=ax, fmt=\".0f\", cmap='BuGn', linewidths=.5)\n",
        "plt.title('Rendement par région et par année') \n",
        "plt.show()"
      ]
    },
    {
      "cell_type": "code",
      "execution_count": null,
      "metadata": {},
      "outputs": [],
      "source": [
        "def plot_subset(data, x, y, values, values_col, y_units='', x_units='', capture_plot=False):            \n",
        "    '''\n",
        "    Graphique de y en fonction x pour les valeurs spécifiées\n",
        "    Exemple : \n",
        "    plot_subset(data, x='Annee', y='Rendement', values=['Sudbury', 'Grand Sudbury'],\n",
        "                values_col='Region', y_units='boiseaux/acre')\n",
        "    '''\n",
        "    _, ax = plt.subplots(figsize=(5,3))\n",
        "      \n",
        "    for value in values :\n",
        "        tmp = data.loc[data[values_col]==value, :]\n",
        "        tmp.plot(x=x, y=y, label=value, marker='o', ax=ax)\n",
        "        \n",
        "    plt.xticks(data[x].unique(), rotation=90)\n",
        "    plt.ylim(data[y].min()-5, data[y].max()+5)\n",
        "    plt.ylabel(f'{y.title()} ({y_units})')\n",
        "    plt.xlabel(f'{x.title()} ({x_units})')\n",
        "    plt.title(f'{y.title()} par {values_col.lower()} en fonction de(s) {x.lower()}')\n",
        "    plt.legend(loc='center left', bbox_to_anchor=(1, 0.5))\n",
        "   \n",
        "    plt.show()\n"
      ]
    },
    {
      "cell_type": "code",
      "execution_count": null,
      "metadata": {},
      "outputs": [],
      "source": [
        "plot_subset(data, x='Annee', y='Rendement', values=['Sudbury', 'Grand Sudbury'],\n",
        "                values_col='Region', y_units='boiseaux/acre')"
      ]
    },
    {
      "attachments": {},
      "cell_type": "markdown",
      "metadata": {},
      "source": [
        "## À votre tour\n",
        "<img style='float:right;'  src='https://drive.google.com/uc?export=view&id=1HMGzZe3dGBk9Zgpk0tKtbQarFu3WMrBK' height='100px'>  </a>\n",
        "Quelle autre visualisation pourriez-vous faire pour mieux comprendre les données ?\n",
        "\n"
      ]
    },
    {
      "cell_type": "code",
      "execution_count": null,
      "metadata": {},
      "outputs": [],
      "source": []
    },
    {
      "cell_type": "code",
      "execution_count": null,
      "metadata": {},
      "outputs": [],
      "source": [
        "fig = plt.figure(figsize=(10, 5))\n",
        "\n",
        "\n",
        "plt.show()"
      ]
    },
    {
      "attachments": {},
      "cell_type": "markdown",
      "metadata": {},
      "source": [
        "## À votre tour\n",
        "<img style='float:right;'  src='https://drive.google.com/uc?export=view&id=1HMGzZe3dGBk9Zgpk0tKtbQarFu3WMrBK' height='100px'>  </a>\n",
        "\n",
        "Ce n'est pas tout de crééer des graphiques, il faut aussi les interpréter. Qu'est-ce que vous pouvez dire sur les données ?"
      ]
    },
    {
      "attachments": {},
      "cell_type": "markdown",
      "metadata": {},
      "source": []
    },
    {
      "cell_type": "code",
      "execution_count": null,
      "metadata": {},
      "outputs": [],
      "source": []
    },
    {
      "cell_type": "code",
      "execution_count": null,
      "metadata": {},
      "outputs": [],
      "source": []
    }
  ],
  "metadata": {
    "colab": {
      "collapsed_sections": [
        "3kP1ZffLciz6",
        "C8mpHaivctf1",
        "od48YyfZxhz5",
        "ETD_MvuZyerD"
      ],
      "provenance": [],
      "toc_visible": true
    },
    "kernelspec": {
      "display_name": "Python 3",
      "name": "python3"
    },
    "language_info": {
      "codemirror_mode": {
        "name": "ipython",
        "version": 3
      },
      "file_extension": ".py",
      "mimetype": "text/x-python",
      "name": "python",
      "nbconvert_exporter": "python",
      "pygments_lexer": "ipython3",
      "version": "3.8.9"
    },
    "widgets": {
      "application/vnd.jupyter.widget-state+json": {
        "04bb82951d5f47f4a346b630303a9bf7": {
          "model_module": "@jupyter-widgets/controls",
          "model_module_version": "1.5.0",
          "model_name": "DescriptionStyleModel",
          "state": {
            "_model_module": "@jupyter-widgets/controls",
            "_model_module_version": "1.5.0",
            "_model_name": "DescriptionStyleModel",
            "_view_count": null,
            "_view_module": "@jupyter-widgets/base",
            "_view_module_version": "1.2.0",
            "_view_name": "StyleView",
            "description_width": ""
          }
        },
        "05f95916eee849b8b198c222eb76cdea": {
          "model_module": "@jupyter-widgets/controls",
          "model_module_version": "1.5.0",
          "model_name": "HBoxModel",
          "state": {
            "_dom_classes": [],
            "_model_module": "@jupyter-widgets/controls",
            "_model_module_version": "1.5.0",
            "_model_name": "HBoxModel",
            "_view_count": null,
            "_view_module": "@jupyter-widgets/controls",
            "_view_module_version": "1.5.0",
            "_view_name": "HBoxView",
            "box_style": "",
            "children": [
              "IPY_MODEL_16302b3a77214c5db017850c331645de",
              "IPY_MODEL_3d8f5550fcb04168a5f125d8e42c3c60",
              "IPY_MODEL_a702d46271034fe48b1547e15323abcb"
            ],
            "layout": "IPY_MODEL_7b248979d792470185137a9f2b9c48c3"
          }
        },
        "0b20c35bbe0c46ed8c64d7500734b20d": {
          "model_module": "@jupyter-widgets/controls",
          "model_module_version": "1.5.0",
          "model_name": "DescriptionStyleModel",
          "state": {
            "_model_module": "@jupyter-widgets/controls",
            "_model_module_version": "1.5.0",
            "_model_name": "DescriptionStyleModel",
            "_view_count": null,
            "_view_module": "@jupyter-widgets/base",
            "_view_module_version": "1.2.0",
            "_view_name": "StyleView",
            "description_width": ""
          }
        },
        "16302b3a77214c5db017850c331645de": {
          "model_module": "@jupyter-widgets/controls",
          "model_module_version": "1.5.0",
          "model_name": "HTMLModel",
          "state": {
            "_dom_classes": [],
            "_model_module": "@jupyter-widgets/controls",
            "_model_module_version": "1.5.0",
            "_model_name": "HTMLModel",
            "_view_count": null,
            "_view_module": "@jupyter-widgets/controls",
            "_view_module_version": "1.5.0",
            "_view_name": "HTMLView",
            "description": "",
            "description_tooltip": null,
            "layout": "IPY_MODEL_cf5a0966d43447c0bf5796d7a3bcc2f4",
            "placeholder": "​",
            "style": "IPY_MODEL_04bb82951d5f47f4a346b630303a9bf7",
            "value": "Generate report structure:   0%"
          }
        },
        "250ec2fc0df844679072a9d7462e065d": {
          "model_module": "@jupyter-widgets/base",
          "model_module_version": "1.2.0",
          "model_name": "LayoutModel",
          "state": {
            "_model_module": "@jupyter-widgets/base",
            "_model_module_version": "1.2.0",
            "_model_name": "LayoutModel",
            "_view_count": null,
            "_view_module": "@jupyter-widgets/base",
            "_view_module_version": "1.2.0",
            "_view_name": "LayoutView",
            "align_content": null,
            "align_items": null,
            "align_self": null,
            "border": null,
            "bottom": null,
            "display": null,
            "flex": null,
            "flex_flow": null,
            "grid_area": null,
            "grid_auto_columns": null,
            "grid_auto_flow": null,
            "grid_auto_rows": null,
            "grid_column": null,
            "grid_gap": null,
            "grid_row": null,
            "grid_template_areas": null,
            "grid_template_columns": null,
            "grid_template_rows": null,
            "height": null,
            "justify_content": null,
            "justify_items": null,
            "left": null,
            "margin": null,
            "max_height": null,
            "max_width": null,
            "min_height": null,
            "min_width": null,
            "object_fit": null,
            "object_position": null,
            "order": null,
            "overflow": null,
            "overflow_x": null,
            "overflow_y": null,
            "padding": null,
            "right": null,
            "top": null,
            "visibility": null,
            "width": null
          }
        },
        "2c7fce91632047e99a5acbb44f342543": {
          "model_module": "@jupyter-widgets/controls",
          "model_module_version": "1.5.0",
          "model_name": "HBoxModel",
          "state": {
            "_dom_classes": [],
            "_model_module": "@jupyter-widgets/controls",
            "_model_module_version": "1.5.0",
            "_model_name": "HBoxModel",
            "_view_count": null,
            "_view_module": "@jupyter-widgets/controls",
            "_view_module_version": "1.5.0",
            "_view_name": "HBoxView",
            "box_style": "",
            "children": [
              "IPY_MODEL_f0e63865d701445e9d9220e49dea9d9d",
              "IPY_MODEL_44fad488eeb14d81808b10617d23b823",
              "IPY_MODEL_eec0824a00a84f93be3b4b1f03d132b4"
            ],
            "layout": "IPY_MODEL_a4eaaf8d35bf4c73a2889acfdfc8ff73"
          }
        },
        "3d8f5550fcb04168a5f125d8e42c3c60": {
          "model_module": "@jupyter-widgets/controls",
          "model_module_version": "1.5.0",
          "model_name": "FloatProgressModel",
          "state": {
            "_dom_classes": [],
            "_model_module": "@jupyter-widgets/controls",
            "_model_module_version": "1.5.0",
            "_model_name": "FloatProgressModel",
            "_view_count": null,
            "_view_module": "@jupyter-widgets/controls",
            "_view_module_version": "1.5.0",
            "_view_name": "ProgressView",
            "bar_style": "danger",
            "description": "",
            "description_tooltip": null,
            "layout": "IPY_MODEL_dc6396f455b444b286708c892706c6b9",
            "max": 1,
            "min": 0,
            "orientation": "horizontal",
            "style": "IPY_MODEL_e909aaafb9a745fdae33a32e954cdbd6",
            "value": 0
          }
        },
        "44fad488eeb14d81808b10617d23b823": {
          "model_module": "@jupyter-widgets/controls",
          "model_module_version": "1.5.0",
          "model_name": "FloatProgressModel",
          "state": {
            "_dom_classes": [],
            "_model_module": "@jupyter-widgets/controls",
            "_model_module_version": "1.5.0",
            "_model_name": "FloatProgressModel",
            "_view_count": null,
            "_view_module": "@jupyter-widgets/controls",
            "_view_module_version": "1.5.0",
            "_view_name": "ProgressView",
            "bar_style": "success",
            "description": "",
            "description_tooltip": null,
            "layout": "IPY_MODEL_89f234538c4b4edebfd5603ce15973bc",
            "max": 5,
            "min": 0,
            "orientation": "horizontal",
            "style": "IPY_MODEL_592a4d24aefd4302b7c583695210d660",
            "value": 5
          }
        },
        "592a4d24aefd4302b7c583695210d660": {
          "model_module": "@jupyter-widgets/controls",
          "model_module_version": "1.5.0",
          "model_name": "ProgressStyleModel",
          "state": {
            "_model_module": "@jupyter-widgets/controls",
            "_model_module_version": "1.5.0",
            "_model_name": "ProgressStyleModel",
            "_view_count": null,
            "_view_module": "@jupyter-widgets/base",
            "_view_module_version": "1.2.0",
            "_view_name": "StyleView",
            "bar_color": null,
            "description_width": ""
          }
        },
        "63ff63060dcb4988b0001f9c3ba8e14f": {
          "model_module": "@jupyter-widgets/base",
          "model_module_version": "1.2.0",
          "model_name": "LayoutModel",
          "state": {
            "_model_module": "@jupyter-widgets/base",
            "_model_module_version": "1.2.0",
            "_model_name": "LayoutModel",
            "_view_count": null,
            "_view_module": "@jupyter-widgets/base",
            "_view_module_version": "1.2.0",
            "_view_name": "LayoutView",
            "align_content": null,
            "align_items": null,
            "align_self": null,
            "border": null,
            "bottom": null,
            "display": null,
            "flex": null,
            "flex_flow": null,
            "grid_area": null,
            "grid_auto_columns": null,
            "grid_auto_flow": null,
            "grid_auto_rows": null,
            "grid_column": null,
            "grid_gap": null,
            "grid_row": null,
            "grid_template_areas": null,
            "grid_template_columns": null,
            "grid_template_rows": null,
            "height": null,
            "justify_content": null,
            "justify_items": null,
            "left": null,
            "margin": null,
            "max_height": null,
            "max_width": null,
            "min_height": null,
            "min_width": null,
            "object_fit": null,
            "object_position": null,
            "order": null,
            "overflow": null,
            "overflow_x": null,
            "overflow_y": null,
            "padding": null,
            "right": null,
            "top": null,
            "visibility": null,
            "width": null
          }
        },
        "7b248979d792470185137a9f2b9c48c3": {
          "model_module": "@jupyter-widgets/base",
          "model_module_version": "1.2.0",
          "model_name": "LayoutModel",
          "state": {
            "_model_module": "@jupyter-widgets/base",
            "_model_module_version": "1.2.0",
            "_model_name": "LayoutModel",
            "_view_count": null,
            "_view_module": "@jupyter-widgets/base",
            "_view_module_version": "1.2.0",
            "_view_name": "LayoutView",
            "align_content": null,
            "align_items": null,
            "align_self": null,
            "border": null,
            "bottom": null,
            "display": null,
            "flex": null,
            "flex_flow": null,
            "grid_area": null,
            "grid_auto_columns": null,
            "grid_auto_flow": null,
            "grid_auto_rows": null,
            "grid_column": null,
            "grid_gap": null,
            "grid_row": null,
            "grid_template_areas": null,
            "grid_template_columns": null,
            "grid_template_rows": null,
            "height": null,
            "justify_content": null,
            "justify_items": null,
            "left": null,
            "margin": null,
            "max_height": null,
            "max_width": null,
            "min_height": null,
            "min_width": null,
            "object_fit": null,
            "object_position": null,
            "order": null,
            "overflow": null,
            "overflow_x": null,
            "overflow_y": null,
            "padding": null,
            "right": null,
            "top": null,
            "visibility": null,
            "width": null
          }
        },
        "89f234538c4b4edebfd5603ce15973bc": {
          "model_module": "@jupyter-widgets/base",
          "model_module_version": "1.2.0",
          "model_name": "LayoutModel",
          "state": {
            "_model_module": "@jupyter-widgets/base",
            "_model_module_version": "1.2.0",
            "_model_name": "LayoutModel",
            "_view_count": null,
            "_view_module": "@jupyter-widgets/base",
            "_view_module_version": "1.2.0",
            "_view_name": "LayoutView",
            "align_content": null,
            "align_items": null,
            "align_self": null,
            "border": null,
            "bottom": null,
            "display": null,
            "flex": null,
            "flex_flow": null,
            "grid_area": null,
            "grid_auto_columns": null,
            "grid_auto_flow": null,
            "grid_auto_rows": null,
            "grid_column": null,
            "grid_gap": null,
            "grid_row": null,
            "grid_template_areas": null,
            "grid_template_columns": null,
            "grid_template_rows": null,
            "height": null,
            "justify_content": null,
            "justify_items": null,
            "left": null,
            "margin": null,
            "max_height": null,
            "max_width": null,
            "min_height": null,
            "min_width": null,
            "object_fit": null,
            "object_position": null,
            "order": null,
            "overflow": null,
            "overflow_x": null,
            "overflow_y": null,
            "padding": null,
            "right": null,
            "top": null,
            "visibility": null,
            "width": null
          }
        },
        "a4eaaf8d35bf4c73a2889acfdfc8ff73": {
          "model_module": "@jupyter-widgets/base",
          "model_module_version": "1.2.0",
          "model_name": "LayoutModel",
          "state": {
            "_model_module": "@jupyter-widgets/base",
            "_model_module_version": "1.2.0",
            "_model_name": "LayoutModel",
            "_view_count": null,
            "_view_module": "@jupyter-widgets/base",
            "_view_module_version": "1.2.0",
            "_view_name": "LayoutView",
            "align_content": null,
            "align_items": null,
            "align_self": null,
            "border": null,
            "bottom": null,
            "display": null,
            "flex": null,
            "flex_flow": null,
            "grid_area": null,
            "grid_auto_columns": null,
            "grid_auto_flow": null,
            "grid_auto_rows": null,
            "grid_column": null,
            "grid_gap": null,
            "grid_row": null,
            "grid_template_areas": null,
            "grid_template_columns": null,
            "grid_template_rows": null,
            "height": null,
            "justify_content": null,
            "justify_items": null,
            "left": null,
            "margin": null,
            "max_height": null,
            "max_width": null,
            "min_height": null,
            "min_width": null,
            "object_fit": null,
            "object_position": null,
            "order": null,
            "overflow": null,
            "overflow_x": null,
            "overflow_y": null,
            "padding": null,
            "right": null,
            "top": null,
            "visibility": null,
            "width": null
          }
        },
        "a702d46271034fe48b1547e15323abcb": {
          "model_module": "@jupyter-widgets/controls",
          "model_module_version": "1.5.0",
          "model_name": "HTMLModel",
          "state": {
            "_dom_classes": [],
            "_model_module": "@jupyter-widgets/controls",
            "_model_module_version": "1.5.0",
            "_model_name": "HTMLModel",
            "_view_count": null,
            "_view_module": "@jupyter-widgets/controls",
            "_view_module_version": "1.5.0",
            "_view_name": "HTMLView",
            "description": "",
            "description_tooltip": null,
            "layout": "IPY_MODEL_250ec2fc0df844679072a9d7462e065d",
            "placeholder": "​",
            "style": "IPY_MODEL_d56c340f31344ec389af9c511188603f",
            "value": " 0/1 [00:00&lt;?, ?it/s]"
          }
        },
        "cf5a0966d43447c0bf5796d7a3bcc2f4": {
          "model_module": "@jupyter-widgets/base",
          "model_module_version": "1.2.0",
          "model_name": "LayoutModel",
          "state": {
            "_model_module": "@jupyter-widgets/base",
            "_model_module_version": "1.2.0",
            "_model_name": "LayoutModel",
            "_view_count": null,
            "_view_module": "@jupyter-widgets/base",
            "_view_module_version": "1.2.0",
            "_view_name": "LayoutView",
            "align_content": null,
            "align_items": null,
            "align_self": null,
            "border": null,
            "bottom": null,
            "display": null,
            "flex": null,
            "flex_flow": null,
            "grid_area": null,
            "grid_auto_columns": null,
            "grid_auto_flow": null,
            "grid_auto_rows": null,
            "grid_column": null,
            "grid_gap": null,
            "grid_row": null,
            "grid_template_areas": null,
            "grid_template_columns": null,
            "grid_template_rows": null,
            "height": null,
            "justify_content": null,
            "justify_items": null,
            "left": null,
            "margin": null,
            "max_height": null,
            "max_width": null,
            "min_height": null,
            "min_width": null,
            "object_fit": null,
            "object_position": null,
            "order": null,
            "overflow": null,
            "overflow_x": null,
            "overflow_y": null,
            "padding": null,
            "right": null,
            "top": null,
            "visibility": null,
            "width": null
          }
        },
        "d56c340f31344ec389af9c511188603f": {
          "model_module": "@jupyter-widgets/controls",
          "model_module_version": "1.5.0",
          "model_name": "DescriptionStyleModel",
          "state": {
            "_model_module": "@jupyter-widgets/controls",
            "_model_module_version": "1.5.0",
            "_model_name": "DescriptionStyleModel",
            "_view_count": null,
            "_view_module": "@jupyter-widgets/base",
            "_view_module_version": "1.2.0",
            "_view_name": "StyleView",
            "description_width": ""
          }
        },
        "dc6396f455b444b286708c892706c6b9": {
          "model_module": "@jupyter-widgets/base",
          "model_module_version": "1.2.0",
          "model_name": "LayoutModel",
          "state": {
            "_model_module": "@jupyter-widgets/base",
            "_model_module_version": "1.2.0",
            "_model_name": "LayoutModel",
            "_view_count": null,
            "_view_module": "@jupyter-widgets/base",
            "_view_module_version": "1.2.0",
            "_view_name": "LayoutView",
            "align_content": null,
            "align_items": null,
            "align_self": null,
            "border": null,
            "bottom": null,
            "display": null,
            "flex": null,
            "flex_flow": null,
            "grid_area": null,
            "grid_auto_columns": null,
            "grid_auto_flow": null,
            "grid_auto_rows": null,
            "grid_column": null,
            "grid_gap": null,
            "grid_row": null,
            "grid_template_areas": null,
            "grid_template_columns": null,
            "grid_template_rows": null,
            "height": null,
            "justify_content": null,
            "justify_items": null,
            "left": null,
            "margin": null,
            "max_height": null,
            "max_width": null,
            "min_height": null,
            "min_width": null,
            "object_fit": null,
            "object_position": null,
            "order": null,
            "overflow": null,
            "overflow_x": null,
            "overflow_y": null,
            "padding": null,
            "right": null,
            "top": null,
            "visibility": null,
            "width": null
          }
        },
        "dd7fa7534c6b45339576aedabdcabebc": {
          "model_module": "@jupyter-widgets/base",
          "model_module_version": "1.2.0",
          "model_name": "LayoutModel",
          "state": {
            "_model_module": "@jupyter-widgets/base",
            "_model_module_version": "1.2.0",
            "_model_name": "LayoutModel",
            "_view_count": null,
            "_view_module": "@jupyter-widgets/base",
            "_view_module_version": "1.2.0",
            "_view_name": "LayoutView",
            "align_content": null,
            "align_items": null,
            "align_self": null,
            "border": null,
            "bottom": null,
            "display": null,
            "flex": null,
            "flex_flow": null,
            "grid_area": null,
            "grid_auto_columns": null,
            "grid_auto_flow": null,
            "grid_auto_rows": null,
            "grid_column": null,
            "grid_gap": null,
            "grid_row": null,
            "grid_template_areas": null,
            "grid_template_columns": null,
            "grid_template_rows": null,
            "height": null,
            "justify_content": null,
            "justify_items": null,
            "left": null,
            "margin": null,
            "max_height": null,
            "max_width": null,
            "min_height": null,
            "min_width": null,
            "object_fit": null,
            "object_position": null,
            "order": null,
            "overflow": null,
            "overflow_x": null,
            "overflow_y": null,
            "padding": null,
            "right": null,
            "top": null,
            "visibility": null,
            "width": null
          }
        },
        "e909aaafb9a745fdae33a32e954cdbd6": {
          "model_module": "@jupyter-widgets/controls",
          "model_module_version": "1.5.0",
          "model_name": "ProgressStyleModel",
          "state": {
            "_model_module": "@jupyter-widgets/controls",
            "_model_module_version": "1.5.0",
            "_model_name": "ProgressStyleModel",
            "_view_count": null,
            "_view_module": "@jupyter-widgets/base",
            "_view_module_version": "1.2.0",
            "_view_name": "StyleView",
            "bar_color": null,
            "description_width": ""
          }
        },
        "eec0824a00a84f93be3b4b1f03d132b4": {
          "model_module": "@jupyter-widgets/controls",
          "model_module_version": "1.5.0",
          "model_name": "HTMLModel",
          "state": {
            "_dom_classes": [],
            "_model_module": "@jupyter-widgets/controls",
            "_model_module_version": "1.5.0",
            "_model_name": "HTMLModel",
            "_view_count": null,
            "_view_module": "@jupyter-widgets/controls",
            "_view_module_version": "1.5.0",
            "_view_name": "HTMLView",
            "description": "",
            "description_tooltip": null,
            "layout": "IPY_MODEL_dd7fa7534c6b45339576aedabdcabebc",
            "placeholder": "​",
            "style": "IPY_MODEL_0b20c35bbe0c46ed8c64d7500734b20d",
            "value": " 14/14 [00:02&lt;00:00,  2.53it/s, Completed]"
          }
        },
        "f0e63865d701445e9d9220e49dea9d9d": {
          "model_module": "@jupyter-widgets/controls",
          "model_module_version": "1.5.0",
          "model_name": "HTMLModel",
          "state": {
            "_dom_classes": [],
            "_model_module": "@jupyter-widgets/controls",
            "_model_module_version": "1.5.0",
            "_model_name": "HTMLModel",
            "_view_count": null,
            "_view_module": "@jupyter-widgets/controls",
            "_view_module_version": "1.5.0",
            "_view_name": "HTMLView",
            "description": "",
            "description_tooltip": null,
            "layout": "IPY_MODEL_63ff63060dcb4988b0001f9c3ba8e14f",
            "placeholder": "​",
            "style": "IPY_MODEL_fa504392c8314a87b84a3197c2d7c9ee",
            "value": "Summarize dataset: 100%"
          }
        },
        "fa504392c8314a87b84a3197c2d7c9ee": {
          "model_module": "@jupyter-widgets/controls",
          "model_module_version": "1.5.0",
          "model_name": "DescriptionStyleModel",
          "state": {
            "_model_module": "@jupyter-widgets/controls",
            "_model_module_version": "1.5.0",
            "_model_name": "DescriptionStyleModel",
            "_view_count": null,
            "_view_module": "@jupyter-widgets/base",
            "_view_module_version": "1.2.0",
            "_view_name": "StyleView",
            "description_width": ""
          }
        }
      }
    }
  },
  "nbformat": 4,
  "nbformat_minor": 0
}
